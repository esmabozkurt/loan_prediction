{
 "cells": [
  {
   "cell_type": "markdown",
   "metadata": {},
   "source": [
    "## Loan Repayment Prediction\n",
    "\n",
    "#### Projede kredi alanların geri ödeme yapıp yapmayacağını tahmin eden model oluşturmamız isteniyor. "
   ]
  },
  {
   "cell_type": "code",
   "execution_count": 1,
   "metadata": {},
   "outputs": [],
   "source": [
    "import pandas as pd\n",
    "import numpy as np\n",
    "import datetime as dt\n",
    "import matplotlib.pyplot as plt\n",
    "%matplotlib inline\n",
    "import seaborn as sns\n",
    "import warnings\n",
    "warnings.filterwarnings(\"ignore\")"
   ]
  },
  {
   "cell_type": "code",
   "execution_count": 2,
   "metadata": {},
   "outputs": [
    {
     "data": {
      "text/html": [
       "<div>\n",
       "<style scoped>\n",
       "    .dataframe tbody tr th:only-of-type {\n",
       "        vertical-align: middle;\n",
       "    }\n",
       "\n",
       "    .dataframe tbody tr th {\n",
       "        vertical-align: top;\n",
       "    }\n",
       "\n",
       "    .dataframe thead th {\n",
       "        text-align: right;\n",
       "    }\n",
       "</style>\n",
       "<table border=\"1\" class=\"dataframe\">\n",
       "  <thead>\n",
       "    <tr style=\"text-align: right;\">\n",
       "      <th></th>\n",
       "      <th>Loan ID</th>\n",
       "      <th>Customer ID</th>\n",
       "      <th>Loan Status</th>\n",
       "      <th>Current Loan Amount</th>\n",
       "      <th>Term</th>\n",
       "      <th>Credit Score</th>\n",
       "      <th>Years in current job</th>\n",
       "      <th>Home Ownership</th>\n",
       "      <th>Annual Income</th>\n",
       "      <th>Purpose</th>\n",
       "      <th>Monthly Debt</th>\n",
       "      <th>Years of Credit History</th>\n",
       "      <th>Months since last delinquent</th>\n",
       "      <th>Number of Open Accounts</th>\n",
       "      <th>Number of Credit Problems</th>\n",
       "      <th>Current Credit Balance</th>\n",
       "      <th>Maximum Open Credit</th>\n",
       "      <th>Bankruptcies</th>\n",
       "      <th>Tax Liens</th>\n",
       "    </tr>\n",
       "  </thead>\n",
       "  <tbody>\n",
       "    <tr>\n",
       "      <th>0</th>\n",
       "      <td>000025bb-5694-4cff-b17d-192b1a98ba44</td>\n",
       "      <td>5ebc8bb1-5eb9-4404-b11b-a6eebc401a19</td>\n",
       "      <td>Fully Paid</td>\n",
       "      <td>11520</td>\n",
       "      <td>Short Term</td>\n",
       "      <td>741.0</td>\n",
       "      <td>10+ years</td>\n",
       "      <td>Home Mortgage</td>\n",
       "      <td>33694.0</td>\n",
       "      <td>Debt Consolidation</td>\n",
       "      <td>$584.03</td>\n",
       "      <td>12.3</td>\n",
       "      <td>41.0</td>\n",
       "      <td>10</td>\n",
       "      <td>0</td>\n",
       "      <td>6760</td>\n",
       "      <td>16056</td>\n",
       "      <td>0.0</td>\n",
       "      <td>0.0</td>\n",
       "    </tr>\n",
       "    <tr>\n",
       "      <th>1</th>\n",
       "      <td>00002c49-3a29-4bd4-8f67-c8f8fbc1048c</td>\n",
       "      <td>927b388d-2e01-423f-a8dc-f7e42d668f46</td>\n",
       "      <td>Fully Paid</td>\n",
       "      <td>3441</td>\n",
       "      <td>Short Term</td>\n",
       "      <td>734.0</td>\n",
       "      <td>4 years</td>\n",
       "      <td>Home Mortgage</td>\n",
       "      <td>42269.0</td>\n",
       "      <td>other</td>\n",
       "      <td>$1,106.04</td>\n",
       "      <td>26.3</td>\n",
       "      <td>NaN</td>\n",
       "      <td>17</td>\n",
       "      <td>0</td>\n",
       "      <td>6262</td>\n",
       "      <td>19149</td>\n",
       "      <td>0.0</td>\n",
       "      <td>0.0</td>\n",
       "    </tr>\n",
       "    <tr>\n",
       "      <th>2</th>\n",
       "      <td>00002d89-27f3-409b-aa76-90834f359a65</td>\n",
       "      <td>defce609-c631-447d-aad6-1270615e89c4</td>\n",
       "      <td>Fully Paid</td>\n",
       "      <td>21029</td>\n",
       "      <td>Short Term</td>\n",
       "      <td>747.0</td>\n",
       "      <td>10+ years</td>\n",
       "      <td>Home Mortgage</td>\n",
       "      <td>90126.0</td>\n",
       "      <td>Debt Consolidation</td>\n",
       "      <td>$1,321.85</td>\n",
       "      <td>28.8</td>\n",
       "      <td>NaN</td>\n",
       "      <td>5</td>\n",
       "      <td>0</td>\n",
       "      <td>20967</td>\n",
       "      <td>28335</td>\n",
       "      <td>0.0</td>\n",
       "      <td>0.0</td>\n",
       "    </tr>\n",
       "    <tr>\n",
       "      <th>3</th>\n",
       "      <td>00005222-b4d8-45a4-ad8c-186057e24233</td>\n",
       "      <td>070bcecb-aae7-4485-a26a-e0403e7bb6c5</td>\n",
       "      <td>Fully Paid</td>\n",
       "      <td>18743</td>\n",
       "      <td>Short Term</td>\n",
       "      <td>747.0</td>\n",
       "      <td>10+ years</td>\n",
       "      <td>Own Home</td>\n",
       "      <td>38072.0</td>\n",
       "      <td>Debt Consolidation</td>\n",
       "      <td>$751.92</td>\n",
       "      <td>26.2</td>\n",
       "      <td>NaN</td>\n",
       "      <td>9</td>\n",
       "      <td>0</td>\n",
       "      <td>22529</td>\n",
       "      <td>43915</td>\n",
       "      <td>0.0</td>\n",
       "      <td>0.0</td>\n",
       "    </tr>\n",
       "    <tr>\n",
       "      <th>4</th>\n",
       "      <td>0000757f-a121-41ed-b17b-162e76647c1f</td>\n",
       "      <td>dde79588-12f0-4811-bab0-e2b07f633fcd</td>\n",
       "      <td>Fully Paid</td>\n",
       "      <td>11731</td>\n",
       "      <td>Short Term</td>\n",
       "      <td>746.0</td>\n",
       "      <td>4 years</td>\n",
       "      <td>Rent</td>\n",
       "      <td>50025.0</td>\n",
       "      <td>Debt Consolidation</td>\n",
       "      <td>$355.18</td>\n",
       "      <td>11.5</td>\n",
       "      <td>NaN</td>\n",
       "      <td>12</td>\n",
       "      <td>0</td>\n",
       "      <td>17391</td>\n",
       "      <td>37081</td>\n",
       "      <td>0.0</td>\n",
       "      <td>0.0</td>\n",
       "    </tr>\n",
       "  </tbody>\n",
       "</table>\n",
       "</div>"
      ],
      "text/plain": [
       "                                Loan ID                           Customer ID  \\\n",
       "0  000025bb-5694-4cff-b17d-192b1a98ba44  5ebc8bb1-5eb9-4404-b11b-a6eebc401a19   \n",
       "1  00002c49-3a29-4bd4-8f67-c8f8fbc1048c  927b388d-2e01-423f-a8dc-f7e42d668f46   \n",
       "2  00002d89-27f3-409b-aa76-90834f359a65  defce609-c631-447d-aad6-1270615e89c4   \n",
       "3  00005222-b4d8-45a4-ad8c-186057e24233  070bcecb-aae7-4485-a26a-e0403e7bb6c5   \n",
       "4  0000757f-a121-41ed-b17b-162e76647c1f  dde79588-12f0-4811-bab0-e2b07f633fcd   \n",
       "\n",
       "  Loan Status  Current Loan Amount        Term  Credit Score  \\\n",
       "0  Fully Paid                11520  Short Term         741.0   \n",
       "1  Fully Paid                 3441  Short Term         734.0   \n",
       "2  Fully Paid                21029  Short Term         747.0   \n",
       "3  Fully Paid                18743  Short Term         747.0   \n",
       "4  Fully Paid                11731  Short Term         746.0   \n",
       "\n",
       "  Years in current job Home Ownership  Annual Income             Purpose  \\\n",
       "0            10+ years  Home Mortgage        33694.0  Debt Consolidation   \n",
       "1              4 years  Home Mortgage        42269.0               other   \n",
       "2            10+ years  Home Mortgage        90126.0  Debt Consolidation   \n",
       "3            10+ years       Own Home        38072.0  Debt Consolidation   \n",
       "4              4 years           Rent        50025.0  Debt Consolidation   \n",
       "\n",
       "  Monthly Debt  Years of Credit History  Months since last delinquent  \\\n",
       "0      $584.03                     12.3                          41.0   \n",
       "1   $1,106.04                      26.3                           NaN   \n",
       "2   $1,321.85                      28.8                           NaN   \n",
       "3      $751.92                     26.2                           NaN   \n",
       "4      $355.18                     11.5                           NaN   \n",
       "\n",
       "   Number of Open Accounts  Number of Credit Problems  Current Credit Balance  \\\n",
       "0                       10                          0                    6760   \n",
       "1                       17                          0                    6262   \n",
       "2                        5                          0                   20967   \n",
       "3                        9                          0                   22529   \n",
       "4                       12                          0                   17391   \n",
       "\n",
       "  Maximum Open Credit  Bankruptcies  Tax Liens  \n",
       "0               16056           0.0        0.0  \n",
       "1               19149           0.0        0.0  \n",
       "2               28335           0.0        0.0  \n",
       "3               43915           0.0        0.0  \n",
       "4               37081           0.0        0.0  "
      ]
     },
     "execution_count": 2,
     "metadata": {},
     "output_type": "execute_result"
    }
   ],
   "source": [
    "df=pd.read_csv('LoansTrainingSet.csv')\n",
    "df.head()"
   ]
  },
  {
   "cell_type": "code",
   "execution_count": 3,
   "metadata": {},
   "outputs": [
    {
     "data": {
      "text/html": [
       "<div>\n",
       "<style scoped>\n",
       "    .dataframe tbody tr th:only-of-type {\n",
       "        vertical-align: middle;\n",
       "    }\n",
       "\n",
       "    .dataframe tbody tr th {\n",
       "        vertical-align: top;\n",
       "    }\n",
       "\n",
       "    .dataframe thead th {\n",
       "        text-align: right;\n",
       "    }\n",
       "</style>\n",
       "<table border=\"1\" class=\"dataframe\">\n",
       "  <thead>\n",
       "    <tr style=\"text-align: right;\">\n",
       "      <th></th>\n",
       "      <th>Loan ID</th>\n",
       "      <th>Customer ID</th>\n",
       "      <th>Loan Status</th>\n",
       "      <th>Current Loan Amount</th>\n",
       "      <th>Term</th>\n",
       "      <th>Credit Score</th>\n",
       "      <th>Years in current job</th>\n",
       "      <th>Home Ownership</th>\n",
       "      <th>Annual Income</th>\n",
       "      <th>Purpose</th>\n",
       "      <th>Monthly Debt</th>\n",
       "      <th>Years of Credit History</th>\n",
       "      <th>Months since last delinquent</th>\n",
       "      <th>Number of Open Accounts</th>\n",
       "      <th>Number of Credit Problems</th>\n",
       "      <th>Current Credit Balance</th>\n",
       "      <th>Maximum Open Credit</th>\n",
       "      <th>Bankruptcies</th>\n",
       "      <th>Tax Liens</th>\n",
       "    </tr>\n",
       "  </thead>\n",
       "  <tbody>\n",
       "    <tr>\n",
       "      <th>256979</th>\n",
       "      <td>fffef5b7-be99-4666-ac70-2a397d2ee435</td>\n",
       "      <td>7211a8e3-cba4-4132-b939-222eed8a662c</td>\n",
       "      <td>Fully Paid</td>\n",
       "      <td>3911</td>\n",
       "      <td>Short Term</td>\n",
       "      <td>NaN</td>\n",
       "      <td>2 years</td>\n",
       "      <td>Rent</td>\n",
       "      <td>NaN</td>\n",
       "      <td>Debt Consolidation</td>\n",
       "      <td>$1,706.58</td>\n",
       "      <td>19.9</td>\n",
       "      <td>NaN</td>\n",
       "      <td>16</td>\n",
       "      <td>0</td>\n",
       "      <td>43992</td>\n",
       "      <td>44080</td>\n",
       "      <td>0.0</td>\n",
       "      <td>0.0</td>\n",
       "    </tr>\n",
       "    <tr>\n",
       "      <th>256980</th>\n",
       "      <td>ffffca93-aa8c-4123-b8ff-7852f6df889a</td>\n",
       "      <td>616fef0c-8f09-4327-9b5c-48fcfaa52934</td>\n",
       "      <td>Fully Paid</td>\n",
       "      <td>5078</td>\n",
       "      <td>Short Term</td>\n",
       "      <td>737.0</td>\n",
       "      <td>10+ years</td>\n",
       "      <td>Own Home</td>\n",
       "      <td>77186.0</td>\n",
       "      <td>Debt Consolidation</td>\n",
       "      <td>$1,376.47</td>\n",
       "      <td>19.1</td>\n",
       "      <td>47.0</td>\n",
       "      <td>9</td>\n",
       "      <td>0</td>\n",
       "      <td>1717</td>\n",
       "      <td>9758</td>\n",
       "      <td>0.0</td>\n",
       "      <td>0.0</td>\n",
       "    </tr>\n",
       "    <tr>\n",
       "      <th>256981</th>\n",
       "      <td>ffffcb2e-e48e-4d2c-a0d6-ed6bce5bfdbe</td>\n",
       "      <td>971a6682-183b-4a52-8bce-1d3429ade295</td>\n",
       "      <td>Charged Off</td>\n",
       "      <td>12116</td>\n",
       "      <td>Short Term</td>\n",
       "      <td>7460.0</td>\n",
       "      <td>9 years</td>\n",
       "      <td>Home Mortgage</td>\n",
       "      <td>52504.0</td>\n",
       "      <td>Debt Consolidation</td>\n",
       "      <td>$297.96</td>\n",
       "      <td>15.1</td>\n",
       "      <td>82.0</td>\n",
       "      <td>8</td>\n",
       "      <td>0</td>\n",
       "      <td>3315</td>\n",
       "      <td>20090</td>\n",
       "      <td>0.0</td>\n",
       "      <td>0.0</td>\n",
       "    </tr>\n",
       "    <tr>\n",
       "      <th>256982</th>\n",
       "      <td>ffffcb2e-e48e-4d2c-a0d6-ed6bce5bfdbe</td>\n",
       "      <td>971a6682-183b-4a52-8bce-1d3429ade295</td>\n",
       "      <td>Charged Off</td>\n",
       "      <td>12116</td>\n",
       "      <td>Short Term</td>\n",
       "      <td>746.0</td>\n",
       "      <td>9 years</td>\n",
       "      <td>Home Mortgage</td>\n",
       "      <td>52504.0</td>\n",
       "      <td>Debt Consolidation</td>\n",
       "      <td>$297.96</td>\n",
       "      <td>15.1</td>\n",
       "      <td>82.0</td>\n",
       "      <td>8</td>\n",
       "      <td>0</td>\n",
       "      <td>3315</td>\n",
       "      <td>20090</td>\n",
       "      <td>0.0</td>\n",
       "      <td>0.0</td>\n",
       "    </tr>\n",
       "    <tr>\n",
       "      <th>256983</th>\n",
       "      <td>ffffe32e-ed17-459f-9cfd-7b9ee7972933</td>\n",
       "      <td>97281336-1e45-41d2-acb2-263ce56a590e</td>\n",
       "      <td>Fully Paid</td>\n",
       "      <td>27902</td>\n",
       "      <td>Long Term</td>\n",
       "      <td>678.0</td>\n",
       "      <td>10+ years</td>\n",
       "      <td>Home Mortgage</td>\n",
       "      <td>117480.0</td>\n",
       "      <td>Debt Consolidation</td>\n",
       "      <td>$2,525.82</td>\n",
       "      <td>18.0</td>\n",
       "      <td>11.0</td>\n",
       "      <td>10</td>\n",
       "      <td>0</td>\n",
       "      <td>28317</td>\n",
       "      <td>62371</td>\n",
       "      <td>0.0</td>\n",
       "      <td>0.0</td>\n",
       "    </tr>\n",
       "  </tbody>\n",
       "</table>\n",
       "</div>"
      ],
      "text/plain": [
       "                                     Loan ID  \\\n",
       "256979  fffef5b7-be99-4666-ac70-2a397d2ee435   \n",
       "256980  ffffca93-aa8c-4123-b8ff-7852f6df889a   \n",
       "256981  ffffcb2e-e48e-4d2c-a0d6-ed6bce5bfdbe   \n",
       "256982  ffffcb2e-e48e-4d2c-a0d6-ed6bce5bfdbe   \n",
       "256983  ffffe32e-ed17-459f-9cfd-7b9ee7972933   \n",
       "\n",
       "                                 Customer ID  Loan Status  \\\n",
       "256979  7211a8e3-cba4-4132-b939-222eed8a662c   Fully Paid   \n",
       "256980  616fef0c-8f09-4327-9b5c-48fcfaa52934   Fully Paid   \n",
       "256981  971a6682-183b-4a52-8bce-1d3429ade295  Charged Off   \n",
       "256982  971a6682-183b-4a52-8bce-1d3429ade295  Charged Off   \n",
       "256983  97281336-1e45-41d2-acb2-263ce56a590e   Fully Paid   \n",
       "\n",
       "        Current Loan Amount        Term  Credit Score Years in current job  \\\n",
       "256979                 3911  Short Term           NaN              2 years   \n",
       "256980                 5078  Short Term         737.0            10+ years   \n",
       "256981                12116  Short Term        7460.0              9 years   \n",
       "256982                12116  Short Term         746.0              9 years   \n",
       "256983                27902   Long Term         678.0            10+ years   \n",
       "\n",
       "       Home Ownership  Annual Income             Purpose Monthly Debt  \\\n",
       "256979           Rent            NaN  Debt Consolidation   $1,706.58    \n",
       "256980       Own Home        77186.0  Debt Consolidation   $1,376.47    \n",
       "256981  Home Mortgage        52504.0  Debt Consolidation      $297.96   \n",
       "256982  Home Mortgage        52504.0  Debt Consolidation      $297.96   \n",
       "256983  Home Mortgage       117480.0  Debt Consolidation   $2,525.82    \n",
       "\n",
       "        Years of Credit History  Months since last delinquent  \\\n",
       "256979                     19.9                           NaN   \n",
       "256980                     19.1                          47.0   \n",
       "256981                     15.1                          82.0   \n",
       "256982                     15.1                          82.0   \n",
       "256983                     18.0                          11.0   \n",
       "\n",
       "        Number of Open Accounts  Number of Credit Problems  \\\n",
       "256979                       16                          0   \n",
       "256980                        9                          0   \n",
       "256981                        8                          0   \n",
       "256982                        8                          0   \n",
       "256983                       10                          0   \n",
       "\n",
       "        Current Credit Balance Maximum Open Credit  Bankruptcies  Tax Liens  \n",
       "256979                   43992               44080           0.0        0.0  \n",
       "256980                    1717                9758           0.0        0.0  \n",
       "256981                    3315               20090           0.0        0.0  \n",
       "256982                    3315               20090           0.0        0.0  \n",
       "256983                   28317               62371           0.0        0.0  "
      ]
     },
     "execution_count": 3,
     "metadata": {},
     "output_type": "execute_result"
    }
   ],
   "source": [
    "df.tail()"
   ]
  },
  {
   "cell_type": "code",
   "execution_count": 4,
   "metadata": {},
   "outputs": [
    {
     "name": "stdout",
     "output_type": "stream",
     "text": [
      "<class 'pandas.core.frame.DataFrame'>\n",
      "RangeIndex: 256984 entries, 0 to 256983\n",
      "Data columns (total 19 columns):\n",
      " #   Column                        Non-Null Count   Dtype  \n",
      "---  ------                        --------------   -----  \n",
      " 0   Loan ID                       256984 non-null  object \n",
      " 1   Customer ID                   256984 non-null  object \n",
      " 2   Loan Status                   256984 non-null  object \n",
      " 3   Current Loan Amount           256984 non-null  int64  \n",
      " 4   Term                          256984 non-null  object \n",
      " 5   Credit Score                  195308 non-null  float64\n",
      " 6   Years in current job          245508 non-null  object \n",
      " 7   Home Ownership                256984 non-null  object \n",
      " 8   Annual Income                 195308 non-null  float64\n",
      " 9   Purpose                       256984 non-null  object \n",
      " 10  Monthly Debt                  256984 non-null  object \n",
      " 11  Years of Credit History       256984 non-null  float64\n",
      " 12  Months since last delinquent  116601 non-null  float64\n",
      " 13  Number of Open Accounts       256984 non-null  int64  \n",
      " 14  Number of Credit Problems     256984 non-null  int64  \n",
      " 15  Current Credit Balance        256984 non-null  int64  \n",
      " 16  Maximum Open Credit           256984 non-null  object \n",
      " 17  Bankruptcies                  256455 non-null  float64\n",
      " 18  Tax Liens                     256961 non-null  float64\n",
      "dtypes: float64(6), int64(4), object(9)\n",
      "memory usage: 37.3+ MB\n"
     ]
    }
   ],
   "source": [
    "df.info()"
   ]
  },
  {
   "cell_type": "code",
   "execution_count": 5,
   "metadata": {
    "scrolled": true
   },
   "outputs": [
    {
     "data": {
      "text/plain": [
       "Months since last delinquent    140383\n",
       "Credit Score                     61676\n",
       "Annual Income                    61676\n",
       "Years in current job             11476\n",
       "Bankruptcies                       529\n",
       "Tax Liens                           23\n",
       "Home Ownership                       0\n",
       "Customer ID                          0\n",
       "Loan Status                          0\n",
       "Current Loan Amount                  0\n",
       "Term                                 0\n",
       "Purpose                              0\n",
       "Monthly Debt                         0\n",
       "Years of Credit History              0\n",
       "Number of Open Accounts              0\n",
       "Number of Credit Problems            0\n",
       "Current Credit Balance               0\n",
       "Maximum Open Credit                  0\n",
       "Loan ID                              0\n",
       "dtype: int64"
      ]
     },
     "execution_count": 5,
     "metadata": {},
     "output_type": "execute_result"
    }
   ],
   "source": [
    "df.isnull().sum().sort_values(ascending=False)"
   ]
  },
  {
   "cell_type": "code",
   "execution_count": 6,
   "metadata": {},
   "outputs": [
    {
     "data": {
      "text/plain": [
       "0            584.03\n",
       "1         1,106.04 \n",
       "2         1,321.85 \n",
       "3            751.92\n",
       "4            355.18\n",
       "            ...    \n",
       "256979    1,706.58 \n",
       "256980    1,376.47 \n",
       "256981       297.96\n",
       "256982       297.96\n",
       "256983    2,525.82 \n",
       "Name: Monthly Debt, Length: 256984, dtype: object"
      ]
     },
     "execution_count": 6,
     "metadata": {},
     "output_type": "execute_result"
    }
   ],
   "source": [
    "df['Monthly Debt']=df['Monthly Debt'].str.replace('[$]','')\n",
    "#df['Monthly Debt']=df['Monthly Debt'].str.replace(\",\", \".\")\n",
    "df['Monthly Debt']"
   ]
  },
  {
   "cell_type": "code",
   "execution_count": 7,
   "metadata": {},
   "outputs": [
    {
     "data": {
      "text/plain": [
       "0           584.03\n",
       "1         1106.04 \n",
       "2         1321.85 \n",
       "3           751.92\n",
       "4           355.18\n",
       "            ...   \n",
       "256979    1706.58 \n",
       "256980    1376.47 \n",
       "256981      297.96\n",
       "256982      297.96\n",
       "256983    2525.82 \n",
       "Name: Monthly Debt, Length: 256984, dtype: object"
      ]
     },
     "execution_count": 7,
     "metadata": {},
     "output_type": "execute_result"
    }
   ],
   "source": [
    "df['Monthly Debt']=df['Monthly Debt'].str.replace(',','')\n",
    "df['Monthly Debt']"
   ]
  },
  {
   "cell_type": "code",
   "execution_count": 8,
   "metadata": {},
   "outputs": [],
   "source": [
    "df['Monthly Debt']=df['Monthly Debt'].astype(float)"
   ]
  },
  {
   "cell_type": "code",
   "execution_count": 9,
   "metadata": {},
   "outputs": [],
   "source": [
    "df['Monthly Debt']=df['Monthly Debt'].astype(int)"
   ]
  },
  {
   "cell_type": "code",
   "execution_count": 10,
   "metadata": {},
   "outputs": [
    {
     "data": {
      "text/plain": [
       "0         10+  \n",
       "1           4  \n",
       "2         10+  \n",
       "3         10+  \n",
       "4           4  \n",
       "          ...  \n",
       "256979      2  \n",
       "256980    10+  \n",
       "256981      9  \n",
       "256982      9  \n",
       "256983    10+  \n",
       "Name: Years in current job, Length: 256984, dtype: object"
      ]
     },
     "execution_count": 10,
     "metadata": {},
     "output_type": "execute_result"
    }
   ],
   "source": [
    "df['Years in current job']=df['Years in current job'].str.replace('years',' ')\n",
    "df['Years in current job']"
   ]
  },
  {
   "cell_type": "code",
   "execution_count": 11,
   "metadata": {},
   "outputs": [
    {
     "data": {
      "text/plain": [
       "0         10   \n",
       "1           4  \n",
       "2         10   \n",
       "3         10   \n",
       "4           4  \n",
       "          ...  \n",
       "256979      2  \n",
       "256980    10   \n",
       "256981      9  \n",
       "256982      9  \n",
       "256983    10   \n",
       "Name: Years in current job, Length: 256984, dtype: object"
      ]
     },
     "execution_count": 11,
     "metadata": {},
     "output_type": "execute_result"
    }
   ],
   "source": [
    "df['Years in current job']=df['Years in current job'].str.replace('+',' ')\n",
    "df['Years in current job']"
   ]
  },
  {
   "cell_type": "code",
   "execution_count": 12,
   "metadata": {},
   "outputs": [],
   "source": [
    "df['Years in current job']=df['Years in current job'].str.replace(' year',' ')"
   ]
  },
  {
   "cell_type": "code",
   "execution_count": 13,
   "metadata": {},
   "outputs": [],
   "source": [
    "df['Years in current job']=df['Years in current job'].str.replace('<',' ')"
   ]
  },
  {
   "cell_type": "code",
   "execution_count": 14,
   "metadata": {},
   "outputs": [
    {
     "data": {
      "text/plain": [
       "0         10.0\n",
       "1          4.0\n",
       "2         10.0\n",
       "3         10.0\n",
       "4          4.0\n",
       "          ... \n",
       "256979     2.0\n",
       "256980    10.0\n",
       "256981     9.0\n",
       "256982     9.0\n",
       "256983    10.0\n",
       "Name: Years in current job, Length: 256984, dtype: float64"
      ]
     },
     "execution_count": 14,
     "metadata": {},
     "output_type": "execute_result"
    }
   ],
   "source": [
    "df['Years in current job'].astype(float)"
   ]
  },
  {
   "cell_type": "code",
   "execution_count": 15,
   "metadata": {},
   "outputs": [],
   "source": [
    "df['Years in current job']=df['Years in current job'].fillna(df['Years in current job'].median())"
   ]
  },
  {
   "cell_type": "code",
   "execution_count": 16,
   "metadata": {},
   "outputs": [
    {
     "data": {
      "text/plain": [
       "0         10\n",
       "1          4\n",
       "2         10\n",
       "3         10\n",
       "4          4\n",
       "          ..\n",
       "256979     2\n",
       "256980    10\n",
       "256981     9\n",
       "256982     9\n",
       "256983    10\n",
       "Name: Years in current job, Length: 256984, dtype: int32"
      ]
     },
     "execution_count": 16,
     "metadata": {},
     "output_type": "execute_result"
    }
   ],
   "source": [
    "df['Years in current job'].astype(int)"
   ]
  },
  {
   "cell_type": "code",
   "execution_count": 17,
   "metadata": {},
   "outputs": [],
   "source": [
    "df.drop_duplicates(subset=['Loan ID','Customer ID'],inplace=True) #Tekrar edenleri kaldıralım. #256983'den 215700 satıra düştü."
   ]
  },
  {
   "cell_type": "code",
   "execution_count": 18,
   "metadata": {},
   "outputs": [
    {
     "data": {
      "text/plain": [
       "count         215700\n",
       "unique             2\n",
       "top       Fully Paid\n",
       "freq          176191\n",
       "Name: Loan Status, dtype: object"
      ]
     },
     "execution_count": 18,
     "metadata": {},
     "output_type": "execute_result"
    }
   ],
   "source": [
    "df['Loan Status'].describe()"
   ]
  },
  {
   "cell_type": "code",
   "execution_count": 19,
   "metadata": {},
   "outputs": [
    {
     "name": "stdout",
     "output_type": "stream",
     "text": [
      "<class 'pandas.core.frame.DataFrame'>\n",
      "Int64Index: 215700 entries, 0 to 256983\n",
      "Data columns (total 19 columns):\n",
      " #   Column                        Non-Null Count   Dtype  \n",
      "---  ------                        --------------   -----  \n",
      " 0   Loan ID                       215700 non-null  object \n",
      " 1   Customer ID                   215700 non-null  object \n",
      " 2   Loan Status                   215700 non-null  object \n",
      " 3   Current Loan Amount           215700 non-null  int64  \n",
      " 4   Term                          215700 non-null  object \n",
      " 5   Credit Score                  160692 non-null  float64\n",
      " 6   Years in current job          215700 non-null  object \n",
      " 7   Home Ownership                215700 non-null  object \n",
      " 8   Annual Income                 160692 non-null  float64\n",
      " 9   Purpose                       215700 non-null  object \n",
      " 10  Monthly Debt                  215700 non-null  int32  \n",
      " 11  Years of Credit History       215700 non-null  float64\n",
      " 12  Months since last delinquent  97438 non-null   float64\n",
      " 13  Number of Open Accounts       215700 non-null  int64  \n",
      " 14  Number of Credit Problems     215700 non-null  int64  \n",
      " 15  Current Credit Balance        215700 non-null  int64  \n",
      " 16  Maximum Open Credit           215700 non-null  object \n",
      " 17  Bankruptcies                  215248 non-null  float64\n",
      " 18  Tax Liens                     215678 non-null  float64\n",
      "dtypes: float64(6), int32(1), int64(4), object(8)\n",
      "memory usage: 32.1+ MB\n"
     ]
    }
   ],
   "source": [
    "df.info()"
   ]
  },
  {
   "cell_type": "code",
   "execution_count": 20,
   "metadata": {},
   "outputs": [
    {
     "name": "stdout",
     "output_type": "stream",
     "text": [
      "Positive examples= 176191\n",
      "Negative examples= 39509\n"
     ]
    },
    {
     "data": {
      "image/png": "[encoded data removed]",
      "text/plain": [
       "<Figure size 576x432 with 1 Axes>"
      ]
     },
     "metadata": {
      "needs_background": "light"
     },
     "output_type": "display_data"
    }
   ],
   "source": [
    "pos = df[df[\"Loan Status\"] == 'Fully Paid'].shape[0]\n",
    "neg = df[df[\"Loan Status\"] == 'Charged Off'].shape[0]\n",
    "print(f\"Positive examples= {pos}\")\n",
    "print(f\"Negative examples= {neg}\")\n",
    "\n",
    "plt.figure(figsize=(8, 6))\n",
    "sns.countplot(df[\"Loan Status\"])\n",
    "plt.xticks((0, 1), [\"Fully Paid\", \"Charged Off\"])\n",
    "plt.xlabel(\"\")\n",
    "plt.ylabel(\"Count\")\n",
    "plt.title(\"Loan Status Counts\", y=1, fontdict={\"fontsize\": 20});"
   ]
  },
  {
   "cell_type": "code",
   "execution_count": 21,
   "metadata": {},
   "outputs": [
    {
     "data": {
      "text/plain": [
       "Text(0, 0.5, 'Count of Charged Off')"
      ]
     },
     "execution_count": 21,
     "metadata": {},
     "output_type": "execute_result"
    },
    {
     "data": {
      "image/png": "[encoded data removed]",
      "text/plain": [
       "<Figure size 864x360 with 1 Axes>"
      ]
     },
     "metadata": {
      "needs_background": "light"
     },
     "output_type": "display_data"
    }
   ],
   "source": [
    "plt.figure(figsize=(12,5))\n",
    "sns.countplot(x='Purpose',hue=df[\"Loan Status\"],data=df,palette='Set1')\n",
    "plt.ylabel(\"Count of Charged Off\")"
   ]
  },
  {
   "cell_type": "code",
   "execution_count": 22,
   "metadata": {},
   "outputs": [],
   "source": [
    "df['Purpose']=df['Purpose'].str.replace('other','Other')"
   ]
  },
  {
   "cell_type": "code",
   "execution_count": 23,
   "metadata": {},
   "outputs": [
    {
     "data": {
      "image/png": "[encoded data removed]",
      "text/plain": [
       "<Figure size 864x360 with 1 Axes>"
      ]
     },
     "metadata": {
      "needs_background": "light"
     },
     "output_type": "display_data"
    }
   ],
   "source": [
    "plt.figure(figsize=(12,5))\n",
    "sns.countplot(x='Purpose',hue=df[\"Loan Status\"],data=df,palette='Set1')\n",
    "plt.ylabel(\"Count of Charged Off\")\n",
    "plt.xticks(rotation=75);"
   ]
  },
  {
   "cell_type": "code",
   "execution_count": 24,
   "metadata": {},
   "outputs": [
    {
     "data": {
      "text/plain": [
       "(8, 12)"
      ]
     },
     "execution_count": 24,
     "metadata": {},
     "output_type": "execute_result"
    }
   ],
   "source": [
    "df['Bankruptcies'].nunique() , df['Tax Liens'].nunique()"
   ]
  },
  {
   "cell_type": "code",
   "execution_count": 25,
   "metadata": {},
   "outputs": [
    {
     "data": {
      "text/plain": [
       "<AxesSubplot:xlabel='Bankruptcies', ylabel='count'>"
      ]
     },
     "execution_count": 25,
     "metadata": {},
     "output_type": "execute_result"
    },
    {
     "data": {
      "image/png": "[encoded data removed]",
      "text/plain": [
       "<Figure size 432x288 with 1 Axes>"
      ]
     },
     "metadata": {
      "needs_background": "light"
     },
     "output_type": "display_data"
    }
   ],
   "source": [
    "sns.countplot(df[\"Bankruptcies\"])"
   ]
  },
  {
   "cell_type": "code",
   "execution_count": 26,
   "metadata": {},
   "outputs": [
    {
     "data": {
      "text/plain": [
       "<matplotlib.legend.Legend at 0x1c60b523340>"
      ]
     },
     "execution_count": 26,
     "metadata": {},
     "output_type": "execute_result"
    },
    {
     "data": {
      "image/png": "[encoded data removed]",
      "text/plain": [
       "<Figure size 720x432 with 1 Axes>"
      ]
     },
     "metadata": {
      "needs_background": "light"
     },
     "output_type": "display_data"
    }
   ],
   "source": [
    "plt.figure(figsize=(10,6))\n",
    "df[df['Bankruptcies']==1]['Credit Score'].hist(bins=45,color='blue',label='iflas - var',alpha=0.6)\n",
    "df[df['Bankruptcies']==0]['Credit Score'].hist(bins=45,color='red',label='iflas - 0',alpha=0.6)\n",
    "plt.xlabel(\"Credit Score\")\n",
    "plt.legend()"
   ]
  },
  {
   "cell_type": "code",
   "execution_count": 27,
   "metadata": {},
   "outputs": [
    {
     "data": {
      "text/plain": [
       "0         12\n",
       "1         26\n",
       "2         28\n",
       "3         26\n",
       "4         11\n",
       "          ..\n",
       "256977    11\n",
       "256979    19\n",
       "256980    19\n",
       "256981    15\n",
       "256983    18\n",
       "Name: Years of Credit History, Length: 215700, dtype: int32"
      ]
     },
     "execution_count": 27,
     "metadata": {},
     "output_type": "execute_result"
    }
   ],
   "source": [
    "df['Years of Credit History'].astype(int)"
   ]
  },
  {
   "cell_type": "code",
   "execution_count": 28,
   "metadata": {},
   "outputs": [
    {
     "data": {
      "text/plain": [
       "<seaborn.axisgrid.FacetGrid at 0x1c60be1ef10>"
      ]
     },
     "execution_count": 28,
     "metadata": {},
     "output_type": "execute_result"
    },
    {
     "data": {
      "image/png": "[encoded data removed]",
      "text/plain": [
       "<Figure size 649.5x576 with 1 Axes>"
      ]
     },
     "metadata": {
      "needs_background": "light"
     },
     "output_type": "display_data"
    }
   ],
   "source": [
    "sns.lmplot(x='Credit Score',y='Years of Credit History',data=df,hue='Bankruptcies',height=8)"
   ]
  },
  {
   "cell_type": "code",
   "execution_count": 29,
   "metadata": {},
   "outputs": [
    {
     "data": {
      "text/html": [
       "<div>\n",
       "<style scoped>\n",
       "    .dataframe tbody tr th:only-of-type {\n",
       "        vertical-align: middle;\n",
       "    }\n",
       "\n",
       "    .dataframe tbody tr th {\n",
       "        vertical-align: top;\n",
       "    }\n",
       "\n",
       "    .dataframe thead th {\n",
       "        text-align: right;\n",
       "    }\n",
       "</style>\n",
       "<table border=\"1\" class=\"dataframe\">\n",
       "  <thead>\n",
       "    <tr style=\"text-align: right;\">\n",
       "      <th></th>\n",
       "      <th>Current Loan Amount</th>\n",
       "      <th>Credit Score</th>\n",
       "      <th>Annual Income</th>\n",
       "      <th>Monthly Debt</th>\n",
       "      <th>Years of Credit History</th>\n",
       "      <th>Months since last delinquent</th>\n",
       "      <th>Number of Open Accounts</th>\n",
       "      <th>Number of Credit Problems</th>\n",
       "      <th>Current Credit Balance</th>\n",
       "      <th>Bankruptcies</th>\n",
       "      <th>Tax Liens</th>\n",
       "    </tr>\n",
       "  </thead>\n",
       "  <tbody>\n",
       "    <tr>\n",
       "      <th>Current Loan Amount</th>\n",
       "      <td>1.000000</td>\n",
       "      <td>-0.165817</td>\n",
       "      <td>0.015076</td>\n",
       "      <td>-0.000128</td>\n",
       "      <td>0.012003</td>\n",
       "      <td>0.000861</td>\n",
       "      <td>-0.000897</td>\n",
       "      <td>0.001095</td>\n",
       "      <td>0.002317</td>\n",
       "      <td>0.003645</td>\n",
       "      <td>-0.001876</td>\n",
       "    </tr>\n",
       "    <tr>\n",
       "      <th>Credit Score</th>\n",
       "      <td>-0.165817</td>\n",
       "      <td>1.000000</td>\n",
       "      <td>-0.041818</td>\n",
       "      <td>0.008162</td>\n",
       "      <td>-0.017535</td>\n",
       "      <td>-0.012275</td>\n",
       "      <td>0.011767</td>\n",
       "      <td>0.001856</td>\n",
       "      <td>-0.003985</td>\n",
       "      <td>-0.004052</td>\n",
       "      <td>0.006768</td>\n",
       "    </tr>\n",
       "    <tr>\n",
       "      <th>Annual Income</th>\n",
       "      <td>0.015076</td>\n",
       "      <td>-0.041818</td>\n",
       "      <td>1.000000</td>\n",
       "      <td>0.466861</td>\n",
       "      <td>0.154597</td>\n",
       "      <td>-0.057471</td>\n",
       "      <td>0.144506</td>\n",
       "      <td>-0.018045</td>\n",
       "      <td>0.303590</td>\n",
       "      <td>-0.047949</td>\n",
       "      <td>0.035597</td>\n",
       "    </tr>\n",
       "    <tr>\n",
       "      <th>Monthly Debt</th>\n",
       "      <td>-0.000128</td>\n",
       "      <td>0.008162</td>\n",
       "      <td>0.466861</td>\n",
       "      <td>1.000000</td>\n",
       "      <td>0.192304</td>\n",
       "      <td>-0.055341</td>\n",
       "      <td>0.412032</td>\n",
       "      <td>-0.056561</td>\n",
       "      <td>0.473984</td>\n",
       "      <td>-0.080389</td>\n",
       "      <td>0.016770</td>\n",
       "    </tr>\n",
       "    <tr>\n",
       "      <th>Years of Credit History</th>\n",
       "      <td>0.012003</td>\n",
       "      <td>-0.017535</td>\n",
       "      <td>0.154597</td>\n",
       "      <td>0.192304</td>\n",
       "      <td>1.000000</td>\n",
       "      <td>-0.039987</td>\n",
       "      <td>0.130020</td>\n",
       "      <td>0.060393</td>\n",
       "      <td>0.202267</td>\n",
       "      <td>0.061128</td>\n",
       "      <td>0.021056</td>\n",
       "    </tr>\n",
       "    <tr>\n",
       "      <th>Months since last delinquent</th>\n",
       "      <td>0.000861</td>\n",
       "      <td>-0.012275</td>\n",
       "      <td>-0.057471</td>\n",
       "      <td>-0.055341</td>\n",
       "      <td>-0.039987</td>\n",
       "      <td>1.000000</td>\n",
       "      <td>-0.037506</td>\n",
       "      <td>0.091436</td>\n",
       "      <td>-0.025873</td>\n",
       "      <td>0.116348</td>\n",
       "      <td>0.002201</td>\n",
       "    </tr>\n",
       "    <tr>\n",
       "      <th>Number of Open Accounts</th>\n",
       "      <td>-0.000897</td>\n",
       "      <td>0.011767</td>\n",
       "      <td>0.144506</td>\n",
       "      <td>0.412032</td>\n",
       "      <td>0.130020</td>\n",
       "      <td>-0.037506</td>\n",
       "      <td>1.000000</td>\n",
       "      <td>-0.015721</td>\n",
       "      <td>0.221708</td>\n",
       "      <td>-0.024167</td>\n",
       "      <td>0.004558</td>\n",
       "    </tr>\n",
       "    <tr>\n",
       "      <th>Number of Credit Problems</th>\n",
       "      <td>0.001095</td>\n",
       "      <td>0.001856</td>\n",
       "      <td>-0.018045</td>\n",
       "      <td>-0.056561</td>\n",
       "      <td>0.060393</td>\n",
       "      <td>0.091436</td>\n",
       "      <td>-0.015721</td>\n",
       "      <td>1.000000</td>\n",
       "      <td>-0.106359</td>\n",
       "      <td>0.763386</td>\n",
       "      <td>0.579014</td>\n",
       "    </tr>\n",
       "    <tr>\n",
       "      <th>Current Credit Balance</th>\n",
       "      <td>0.002317</td>\n",
       "      <td>-0.003985</td>\n",
       "      <td>0.303590</td>\n",
       "      <td>0.473984</td>\n",
       "      <td>0.202267</td>\n",
       "      <td>-0.025873</td>\n",
       "      <td>0.221708</td>\n",
       "      <td>-0.106359</td>\n",
       "      <td>1.000000</td>\n",
       "      <td>-0.120066</td>\n",
       "      <td>-0.012301</td>\n",
       "    </tr>\n",
       "    <tr>\n",
       "      <th>Bankruptcies</th>\n",
       "      <td>0.003645</td>\n",
       "      <td>-0.004052</td>\n",
       "      <td>-0.047949</td>\n",
       "      <td>-0.080389</td>\n",
       "      <td>0.061128</td>\n",
       "      <td>0.116348</td>\n",
       "      <td>-0.024167</td>\n",
       "      <td>0.763386</td>\n",
       "      <td>-0.120066</td>\n",
       "      <td>1.000000</td>\n",
       "      <td>0.049835</td>\n",
       "    </tr>\n",
       "    <tr>\n",
       "      <th>Tax Liens</th>\n",
       "      <td>-0.001876</td>\n",
       "      <td>0.006768</td>\n",
       "      <td>0.035597</td>\n",
       "      <td>0.016770</td>\n",
       "      <td>0.021056</td>\n",
       "      <td>0.002201</td>\n",
       "      <td>0.004558</td>\n",
       "      <td>0.579014</td>\n",
       "      <td>-0.012301</td>\n",
       "      <td>0.049835</td>\n",
       "      <td>1.000000</td>\n",
       "    </tr>\n",
       "  </tbody>\n",
       "</table>\n",
       "</div>"
      ],
      "text/plain": [
       "                              Current Loan Amount  Credit Score  \\\n",
       "Current Loan Amount                      1.000000     -0.165817   \n",
       "Credit Score                            -0.165817      1.000000   \n",
       "Annual Income                            0.015076     -0.041818   \n",
       "Monthly Debt                            -0.000128      0.008162   \n",
       "Years of Credit History                  0.012003     -0.017535   \n",
       "Months since last delinquent             0.000861     -0.012275   \n",
       "Number of Open Accounts                 -0.000897      0.011767   \n",
       "Number of Credit Problems                0.001095      0.001856   \n",
       "Current Credit Balance                   0.002317     -0.003985   \n",
       "Bankruptcies                             0.003645     -0.004052   \n",
       "Tax Liens                               -0.001876      0.006768   \n",
       "\n",
       "                              Annual Income  Monthly Debt  \\\n",
       "Current Loan Amount                0.015076     -0.000128   \n",
       "Credit Score                      -0.041818      0.008162   \n",
       "Annual Income                      1.000000      0.466861   \n",
       "Monthly Debt                       0.466861      1.000000   \n",
       "Years of Credit History            0.154597      0.192304   \n",
       "Months since last delinquent      -0.057471     -0.055341   \n",
       "Number of Open Accounts            0.144506      0.412032   \n",
       "Number of Credit Problems         -0.018045     -0.056561   \n",
       "Current Credit Balance             0.303590      0.473984   \n",
       "Bankruptcies                      -0.047949     -0.080389   \n",
       "Tax Liens                          0.035597      0.016770   \n",
       "\n",
       "                              Years of Credit History  \\\n",
       "Current Loan Amount                          0.012003   \n",
       "Credit Score                                -0.017535   \n",
       "Annual Income                                0.154597   \n",
       "Monthly Debt                                 0.192304   \n",
       "Years of Credit History                      1.000000   \n",
       "Months since last delinquent                -0.039987   \n",
       "Number of Open Accounts                      0.130020   \n",
       "Number of Credit Problems                    0.060393   \n",
       "Current Credit Balance                       0.202267   \n",
       "Bankruptcies                                 0.061128   \n",
       "Tax Liens                                    0.021056   \n",
       "\n",
       "                              Months since last delinquent  \\\n",
       "Current Loan Amount                               0.000861   \n",
       "Credit Score                                     -0.012275   \n",
       "Annual Income                                    -0.057471   \n",
       "Monthly Debt                                     -0.055341   \n",
       "Years of Credit History                          -0.039987   \n",
       "Months since last delinquent                      1.000000   \n",
       "Number of Open Accounts                          -0.037506   \n",
       "Number of Credit Problems                         0.091436   \n",
       "Current Credit Balance                           -0.025873   \n",
       "Bankruptcies                                      0.116348   \n",
       "Tax Liens                                         0.002201   \n",
       "\n",
       "                              Number of Open Accounts  \\\n",
       "Current Loan Amount                         -0.000897   \n",
       "Credit Score                                 0.011767   \n",
       "Annual Income                                0.144506   \n",
       "Monthly Debt                                 0.412032   \n",
       "Years of Credit History                      0.130020   \n",
       "Months since last delinquent                -0.037506   \n",
       "Number of Open Accounts                      1.000000   \n",
       "Number of Credit Problems                   -0.015721   \n",
       "Current Credit Balance                       0.221708   \n",
       "Bankruptcies                                -0.024167   \n",
       "Tax Liens                                    0.004558   \n",
       "\n",
       "                              Number of Credit Problems  \\\n",
       "Current Loan Amount                            0.001095   \n",
       "Credit Score                                   0.001856   \n",
       "Annual Income                                 -0.018045   \n",
       "Monthly Debt                                  -0.056561   \n",
       "Years of Credit History                        0.060393   \n",
       "Months since last delinquent                   0.091436   \n",
       "Number of Open Accounts                       -0.015721   \n",
       "Number of Credit Problems                      1.000000   \n",
       "Current Credit Balance                        -0.106359   \n",
       "Bankruptcies                                   0.763386   \n",
       "Tax Liens                                      0.579014   \n",
       "\n",
       "                              Current Credit Balance  Bankruptcies  Tax Liens  \n",
       "Current Loan Amount                         0.002317      0.003645  -0.001876  \n",
       "Credit Score                               -0.003985     -0.004052   0.006768  \n",
       "Annual Income                               0.303590     -0.047949   0.035597  \n",
       "Monthly Debt                                0.473984     -0.080389   0.016770  \n",
       "Years of Credit History                     0.202267      0.061128   0.021056  \n",
       "Months since last delinquent               -0.025873      0.116348   0.002201  \n",
       "Number of Open Accounts                     0.221708     -0.024167   0.004558  \n",
       "Number of Credit Problems                  -0.106359      0.763386   0.579014  \n",
       "Current Credit Balance                      1.000000     -0.120066  -0.012301  \n",
       "Bankruptcies                               -0.120066      1.000000   0.049835  \n",
       "Tax Liens                                  -0.012301      0.049835   1.000000  "
      ]
     },
     "execution_count": 29,
     "metadata": {},
     "output_type": "execute_result"
    }
   ],
   "source": [
    "df.corr()"
   ]
  },
  {
   "cell_type": "code",
   "execution_count": 30,
   "metadata": {},
   "outputs": [
    {
     "data": {
      "text/plain": [
       "<AxesSubplot:>"
      ]
     },
     "execution_count": 30,
     "metadata": {},
     "output_type": "execute_result"
    },
    {
     "data": {
      "image/png": "[encoded data removed]",
      "text/plain": [
       "<Figure size 864x360 with 2 Axes>"
      ]
     },
     "metadata": {
      "needs_background": "light"
     },
     "output_type": "display_data"
    }
   ],
   "source": [
    "plt.figure(figsize=(12,5))\n",
    "sns.heatmap(df.corr(),annot=True,cmap='inferno',linewidths=1)"
   ]
  },
  {
   "cell_type": "code",
   "execution_count": 31,
   "metadata": {},
   "outputs": [
    {
     "data": {
      "text/plain": [
       "array([16056, 19149, 28335, ..., 55520, 37004, 62371], dtype=object)"
      ]
     },
     "execution_count": 31,
     "metadata": {},
     "output_type": "execute_result"
    }
   ],
   "source": [
    "df['Maximum Open Credit'].unique()"
   ]
  },
  {
   "cell_type": "code",
   "execution_count": 32,
   "metadata": {},
   "outputs": [],
   "source": [
    "df['Current Loan Amount']=df[\"Current Loan Amount\"].apply(lambda x: df[\"Current Loan Amount\"].median() if x >=99999999 else x) \n",
    "df['Credit Score']=df['Credit Score'].apply(lambda x: x/10 if x>800 else x) \n",
    "df[\"Credit Score\"]=df[\"Credit Score\"].fillna(df[\"Credit Score\"].median()) "
   ]
  },
  {
   "cell_type": "code",
   "execution_count": 33,
   "metadata": {},
   "outputs": [
    {
     "name": "stdout",
     "output_type": "stream",
     "text": [
      "<class 'pandas.core.frame.DataFrame'>\n",
      "Int64Index: 215700 entries, 0 to 256983\n",
      "Data columns (total 19 columns):\n",
      " #   Column                        Non-Null Count   Dtype  \n",
      "---  ------                        --------------   -----  \n",
      " 0   Loan ID                       215700 non-null  object \n",
      " 1   Customer ID                   215700 non-null  object \n",
      " 2   Loan Status                   215700 non-null  object \n",
      " 3   Current Loan Amount           215700 non-null  float64\n",
      " 4   Term                          215700 non-null  object \n",
      " 5   Credit Score                  215700 non-null  float64\n",
      " 6   Years in current job          215700 non-null  object \n",
      " 7   Home Ownership                215700 non-null  object \n",
      " 8   Annual Income                 160692 non-null  float64\n",
      " 9   Purpose                       215700 non-null  object \n",
      " 10  Monthly Debt                  215700 non-null  int32  \n",
      " 11  Years of Credit History       215700 non-null  float64\n",
      " 12  Months since last delinquent  97438 non-null   float64\n",
      " 13  Number of Open Accounts       215700 non-null  int64  \n",
      " 14  Number of Credit Problems     215700 non-null  int64  \n",
      " 15  Current Credit Balance        215700 non-null  int64  \n",
      " 16  Maximum Open Credit           215700 non-null  object \n",
      " 17  Bankruptcies                  215248 non-null  float64\n",
      " 18  Tax Liens                     215678 non-null  float64\n",
      "dtypes: float64(7), int32(1), int64(3), object(8)\n",
      "memory usage: 42.1+ MB\n"
     ]
    }
   ],
   "source": [
    "df.info()"
   ]
  },
  {
   "cell_type": "code",
   "execution_count": 34,
   "metadata": {},
   "outputs": [],
   "source": [
    "df[\"Maximum Open Credit\"]=df[\"Maximum Open Credit\"].str.extract(r\"(\\d+)\", expand=False).astype(\"float\")"
   ]
  },
  {
   "cell_type": "code",
   "execution_count": 35,
   "metadata": {},
   "outputs": [],
   "source": [
    "df['Maximum Open Credit'].fillna(df['Maximum Open Credit'].median(),inplace=True)\n",
    "#Tüm kredi kaynakları için maksimum kredi limiti."
   ]
  },
  {
   "cell_type": "code",
   "execution_count": 36,
   "metadata": {},
   "outputs": [],
   "source": [
    "df['Bankruptcies'].fillna(df['Bankruptcies'].median(),inplace=True)\n",
    "df['Tax Liens'].fillna(df['Tax Liens'].median(),inplace=True)"
   ]
  },
  {
   "cell_type": "code",
   "execution_count": 37,
   "metadata": {},
   "outputs": [],
   "source": [
    "#df['Number of Open Accounts']=df['Number of Open Accounts'].fillna(df['Number of Open Accounts'].median(),inplace=True)\n",
    "#df['Number of Credit Problems']=df['Number of Credit Problems'].fillna(df['Number of Credit Problems'].median(),inplace=True)"
   ]
  },
  {
   "cell_type": "code",
   "execution_count": 38,
   "metadata": {},
   "outputs": [],
   "source": [
    "#df['Number of Open Accounts'].astype(float)"
   ]
  },
  {
   "cell_type": "code",
   "execution_count": 39,
   "metadata": {},
   "outputs": [
    {
     "data": {
      "text/plain": [
       "Loan ID                              0\n",
       "Customer ID                          0\n",
       "Loan Status                          0\n",
       "Current Loan Amount                  0\n",
       "Term                                 0\n",
       "Credit Score                         0\n",
       "Years in current job                 0\n",
       "Home Ownership                       0\n",
       "Annual Income                    55008\n",
       "Purpose                              0\n",
       "Monthly Debt                         0\n",
       "Years of Credit History              0\n",
       "Months since last delinquent    118262\n",
       "Number of Open Accounts              0\n",
       "Number of Credit Problems            0\n",
       "Current Credit Balance               0\n",
       "Maximum Open Credit                  0\n",
       "Bankruptcies                         0\n",
       "Tax Liens                            0\n",
       "dtype: int64"
      ]
     },
     "execution_count": 39,
     "metadata": {},
     "output_type": "execute_result"
    }
   ],
   "source": [
    "df.isnull().sum()"
   ]
  },
  {
   "cell_type": "code",
   "execution_count": 40,
   "metadata": {},
   "outputs": [],
   "source": [
    "df['Years in current job']=df['Years in current job'].fillna(df['Years in current job'].median())"
   ]
  },
  {
   "cell_type": "code",
   "execution_count": 41,
   "metadata": {},
   "outputs": [
    {
     "data": {
      "text/plain": [
       "0         10\n",
       "1          4\n",
       "2         10\n",
       "3         10\n",
       "4          4\n",
       "          ..\n",
       "256977    10\n",
       "256979     2\n",
       "256980    10\n",
       "256981     9\n",
       "256983    10\n",
       "Name: Years in current job, Length: 215700, dtype: int32"
      ]
     },
     "execution_count": 41,
     "metadata": {},
     "output_type": "execute_result"
    }
   ],
   "source": [
    "df['Years in current job'].astype(int)"
   ]
  },
  {
   "cell_type": "code",
   "execution_count": 42,
   "metadata": {},
   "outputs": [],
   "source": [
    "df['Annual Income']=df['Annual Income'].fillna(df['Annual Income'].median())"
   ]
  },
  {
   "cell_type": "code",
   "execution_count": 43,
   "metadata": {},
   "outputs": [],
   "source": [
    "df['Months since last delinquent']=df['Months since last delinquent'].fillna(df['Months since last delinquent'].median())"
   ]
  },
  {
   "cell_type": "code",
   "execution_count": 44,
   "metadata": {},
   "outputs": [
    {
     "data": {
      "text/plain": [
       "0         21983.0\n",
       "1         21983.0\n",
       "2         21983.0\n",
       "3         21983.0\n",
       "4         21983.0\n",
       "           ...   \n",
       "256977    21983.0\n",
       "256979    21983.0\n",
       "256980    21983.0\n",
       "256981    21983.0\n",
       "256983    21983.0\n",
       "Name: Maximum Open Credit, Length: 215700, dtype: float64"
      ]
     },
     "execution_count": 44,
     "metadata": {},
     "output_type": "execute_result"
    }
   ],
   "source": [
    "df[\"Maximum Open Credit\"].astype(float)"
   ]
  },
  {
   "cell_type": "code",
   "execution_count": 45,
   "metadata": {},
   "outputs": [],
   "source": [
    "df[\"Maximum Open Credit\"]=df[\"Maximum Open Credit\"].fillna(df[\"Maximum Open Credit\"].median())"
   ]
  },
  {
   "cell_type": "code",
   "execution_count": 46,
   "metadata": {},
   "outputs": [
    {
     "data": {
      "text/plain": [
       "0         21983\n",
       "1         21983\n",
       "2         21983\n",
       "3         21983\n",
       "4         21983\n",
       "          ...  \n",
       "256977    21983\n",
       "256979    21983\n",
       "256980    21983\n",
       "256981    21983\n",
       "256983    21983\n",
       "Name: Maximum Open Credit, Length: 215700, dtype: int32"
      ]
     },
     "execution_count": 46,
     "metadata": {},
     "output_type": "execute_result"
    }
   ],
   "source": [
    "df[\"Maximum Open Credit\"].astype(int)"
   ]
  },
  {
   "cell_type": "code",
   "execution_count": 47,
   "metadata": {},
   "outputs": [
    {
     "data": {
      "text/plain": [
       "Loan ID                         0\n",
       "Customer ID                     0\n",
       "Loan Status                     0\n",
       "Current Loan Amount             0\n",
       "Term                            0\n",
       "Credit Score                    0\n",
       "Years in current job            0\n",
       "Home Ownership                  0\n",
       "Annual Income                   0\n",
       "Purpose                         0\n",
       "Monthly Debt                    0\n",
       "Years of Credit History         0\n",
       "Months since last delinquent    0\n",
       "Number of Open Accounts         0\n",
       "Number of Credit Problems       0\n",
       "Current Credit Balance          0\n",
       "Maximum Open Credit             0\n",
       "Bankruptcies                    0\n",
       "Tax Liens                       0\n",
       "dtype: int64"
      ]
     },
     "execution_count": 47,
     "metadata": {},
     "output_type": "execute_result"
    }
   ],
   "source": [
    "df.isnull().sum()"
   ]
  },
  {
   "cell_type": "code",
   "execution_count": 48,
   "metadata": {},
   "outputs": [
    {
     "name": "stdout",
     "output_type": "stream",
     "text": [
      "<class 'pandas.core.frame.DataFrame'>\n",
      "Int64Index: 215700 entries, 0 to 256983\n",
      "Data columns (total 19 columns):\n",
      " #   Column                        Non-Null Count   Dtype  \n",
      "---  ------                        --------------   -----  \n",
      " 0   Loan ID                       215700 non-null  object \n",
      " 1   Customer ID                   215700 non-null  object \n",
      " 2   Loan Status                   215700 non-null  object \n",
      " 3   Current Loan Amount           215700 non-null  float64\n",
      " 4   Term                          215700 non-null  object \n",
      " 5   Credit Score                  215700 non-null  float64\n",
      " 6   Years in current job          215700 non-null  object \n",
      " 7   Home Ownership                215700 non-null  object \n",
      " 8   Annual Income                 215700 non-null  float64\n",
      " 9   Purpose                       215700 non-null  object \n",
      " 10  Monthly Debt                  215700 non-null  int32  \n",
      " 11  Years of Credit History       215700 non-null  float64\n",
      " 12  Months since last delinquent  215700 non-null  float64\n",
      " 13  Number of Open Accounts       215700 non-null  int64  \n",
      " 14  Number of Credit Problems     215700 non-null  int64  \n",
      " 15  Current Credit Balance        215700 non-null  int64  \n",
      " 16  Maximum Open Credit           215700 non-null  float64\n",
      " 17  Bankruptcies                  215700 non-null  float64\n",
      " 18  Tax Liens                     215700 non-null  float64\n",
      "dtypes: float64(8), int32(1), int64(3), object(7)\n",
      "memory usage: 42.1+ MB\n"
     ]
    }
   ],
   "source": [
    "df.info()"
   ]
  },
  {
   "cell_type": "code",
   "execution_count": 49,
   "metadata": {},
   "outputs": [
    {
     "data": {
      "text/plain": [
       "0         741\n",
       "1         734\n",
       "2         747\n",
       "3         747\n",
       "4         746\n",
       "         ... \n",
       "256977    717\n",
       "256979    732\n",
       "256980    737\n",
       "256981    746\n",
       "256983    678\n",
       "Name: Credit Score, Length: 215700, dtype: int32"
      ]
     },
     "execution_count": 49,
     "metadata": {},
     "output_type": "execute_result"
    }
   ],
   "source": [
    "df['Maximum Open Credit'].astype(int)\n",
    "df['Months since last delinquent'].astype(int)\n",
    "df['Years of Credit History'].astype(int)\n",
    "df['Current Loan Amount'].astype(int)\n",
    "df['Annual Income'].astype(int)\n",
    "df['Credit Score'].astype(int)"
   ]
  },
  {
   "cell_type": "code",
   "execution_count": 50,
   "metadata": {},
   "outputs": [
    {
     "data": {
      "text/plain": [
       "0         0\n",
       "1         0\n",
       "2         0\n",
       "3         0\n",
       "4         0\n",
       "         ..\n",
       "256977    1\n",
       "256979    0\n",
       "256980    0\n",
       "256981    0\n",
       "256983    0\n",
       "Name: Bankruptcies, Length: 215700, dtype: int32"
      ]
     },
     "execution_count": 50,
     "metadata": {},
     "output_type": "execute_result"
    }
   ],
   "source": [
    "df['Bankruptcies'].astype(int)"
   ]
  },
  {
   "cell_type": "code",
   "execution_count": 51,
   "metadata": {},
   "outputs": [
    {
     "data": {
      "text/plain": [
       "0         0\n",
       "1         0\n",
       "2         0\n",
       "3         0\n",
       "4         0\n",
       "         ..\n",
       "256977    0\n",
       "256979    0\n",
       "256980    0\n",
       "256981    0\n",
       "256983    0\n",
       "Name: Tax Liens, Length: 215700, dtype: int32"
      ]
     },
     "execution_count": 51,
     "metadata": {},
     "output_type": "execute_result"
    }
   ],
   "source": [
    "df['Tax Liens'].astype(int)"
   ]
  },
  {
   "cell_type": "code",
   "execution_count": 52,
   "metadata": {},
   "outputs": [],
   "source": [
    "df['Loan Status']=df['Loan Status'].replace('Fully Paid',1).replace('Charged Off',0)"
   ]
  },
  {
   "cell_type": "code",
   "execution_count": 53,
   "metadata": {},
   "outputs": [],
   "source": [
    "df.drop(['Loan ID','Customer ID'],axis=1,inplace=True)"
   ]
  },
  {
   "cell_type": "code",
   "execution_count": 54,
   "metadata": {},
   "outputs": [],
   "source": [
    "df=pd.get_dummies(df,drop_first=True)\n",
    "x=df.drop(['Loan Status'],axis=1)\n",
    "y=df['Loan Status']\n",
    "from sklearn.model_selection import train_test_split\n",
    "x_train,x_test,y_train,y_test=train_test_split(x,y,test_size=0.20,random_state=13)"
   ]
  },
  {
   "cell_type": "code",
   "execution_count": 55,
   "metadata": {},
   "outputs": [
    {
     "name": "stdout",
     "output_type": "stream",
     "text": [
      "gbc score:  0.8173852573018081\n"
     ]
    }
   ],
   "source": [
    "from sklearn.ensemble import GradientBoostingClassifier\n",
    "from sklearn.metrics import accuracy_score, mean_squared_error\n",
    "\n",
    "gbc = GradientBoostingClassifier(n_estimators=500, learning_rate=.01,max_depth=6, random_state=42)\n",
    "gbcmodel=gbc.fit(x_train,y_train)\n",
    "\n",
    "print(\"gbc score: \" ,gbc.score(x_test,y_test)) "
   ]
  },
  {
   "cell_type": "code",
   "execution_count": 56,
   "metadata": {
    "scrolled": false
   },
   "outputs": [
    {
     "data": {
      "text/html": [
       "<style  type=\"text/css\" >\n",
       "    #T_5b624fbb_802b_11eb_b3e1_342eb71307a8 th {\n",
       "          text-align: left;\n",
       "    }#T_5b624fbb_802b_11eb_b3e1_342eb71307a8row0_col0,#T_5b624fbb_802b_11eb_b3e1_342eb71307a8row0_col2,#T_5b624fbb_802b_11eb_b3e1_342eb71307a8row0_col3,#T_5b624fbb_802b_11eb_b3e1_342eb71307a8row0_col4,#T_5b624fbb_802b_11eb_b3e1_342eb71307a8row0_col6,#T_5b624fbb_802b_11eb_b3e1_342eb71307a8row0_col7,#T_5b624fbb_802b_11eb_b3e1_342eb71307a8row1_col0,#T_5b624fbb_802b_11eb_b3e1_342eb71307a8row1_col1,#T_5b624fbb_802b_11eb_b3e1_342eb71307a8row1_col2,#T_5b624fbb_802b_11eb_b3e1_342eb71307a8row1_col3,#T_5b624fbb_802b_11eb_b3e1_342eb71307a8row1_col4,#T_5b624fbb_802b_11eb_b3e1_342eb71307a8row1_col5,#T_5b624fbb_802b_11eb_b3e1_342eb71307a8row1_col6,#T_5b624fbb_802b_11eb_b3e1_342eb71307a8row1_col7,#T_5b624fbb_802b_11eb_b3e1_342eb71307a8row2_col0,#T_5b624fbb_802b_11eb_b3e1_342eb71307a8row2_col1,#T_5b624fbb_802b_11eb_b3e1_342eb71307a8row2_col3,#T_5b624fbb_802b_11eb_b3e1_342eb71307a8row2_col4,#T_5b624fbb_802b_11eb_b3e1_342eb71307a8row2_col5,#T_5b624fbb_802b_11eb_b3e1_342eb71307a8row2_col6,#T_5b624fbb_802b_11eb_b3e1_342eb71307a8row3_col0,#T_5b624fbb_802b_11eb_b3e1_342eb71307a8row3_col1,#T_5b624fbb_802b_11eb_b3e1_342eb71307a8row3_col2,#T_5b624fbb_802b_11eb_b3e1_342eb71307a8row3_col3,#T_5b624fbb_802b_11eb_b3e1_342eb71307a8row3_col4,#T_5b624fbb_802b_11eb_b3e1_342eb71307a8row3_col5,#T_5b624fbb_802b_11eb_b3e1_342eb71307a8row3_col6,#T_5b624fbb_802b_11eb_b3e1_342eb71307a8row3_col7,#T_5b624fbb_802b_11eb_b3e1_342eb71307a8row4_col0,#T_5b624fbb_802b_11eb_b3e1_342eb71307a8row4_col1,#T_5b624fbb_802b_11eb_b3e1_342eb71307a8row4_col2,#T_5b624fbb_802b_11eb_b3e1_342eb71307a8row4_col4,#T_5b624fbb_802b_11eb_b3e1_342eb71307a8row4_col6,#T_5b624fbb_802b_11eb_b3e1_342eb71307a8row4_col7,#T_5b624fbb_802b_11eb_b3e1_342eb71307a8row5_col0,#T_5b624fbb_802b_11eb_b3e1_342eb71307a8row5_col1,#T_5b624fbb_802b_11eb_b3e1_342eb71307a8row5_col2,#T_5b624fbb_802b_11eb_b3e1_342eb71307a8row5_col3,#T_5b624fbb_802b_11eb_b3e1_342eb71307a8row5_col4,#T_5b624fbb_802b_11eb_b3e1_342eb71307a8row5_col5,#T_5b624fbb_802b_11eb_b3e1_342eb71307a8row5_col6,#T_5b624fbb_802b_11eb_b3e1_342eb71307a8row5_col7,#T_5b624fbb_802b_11eb_b3e1_342eb71307a8row6_col0,#T_5b624fbb_802b_11eb_b3e1_342eb71307a8row6_col1,#T_5b624fbb_802b_11eb_b3e1_342eb71307a8row6_col2,#T_5b624fbb_802b_11eb_b3e1_342eb71307a8row6_col3,#T_5b624fbb_802b_11eb_b3e1_342eb71307a8row6_col4,#T_5b624fbb_802b_11eb_b3e1_342eb71307a8row6_col5,#T_5b624fbb_802b_11eb_b3e1_342eb71307a8row6_col6,#T_5b624fbb_802b_11eb_b3e1_342eb71307a8row6_col7,#T_5b624fbb_802b_11eb_b3e1_342eb71307a8row7_col0,#T_5b624fbb_802b_11eb_b3e1_342eb71307a8row7_col1,#T_5b624fbb_802b_11eb_b3e1_342eb71307a8row7_col2,#T_5b624fbb_802b_11eb_b3e1_342eb71307a8row7_col3,#T_5b624fbb_802b_11eb_b3e1_342eb71307a8row7_col4,#T_5b624fbb_802b_11eb_b3e1_342eb71307a8row7_col5,#T_5b624fbb_802b_11eb_b3e1_342eb71307a8row7_col6,#T_5b624fbb_802b_11eb_b3e1_342eb71307a8row7_col7,#T_5b624fbb_802b_11eb_b3e1_342eb71307a8row8_col0,#T_5b624fbb_802b_11eb_b3e1_342eb71307a8row8_col1,#T_5b624fbb_802b_11eb_b3e1_342eb71307a8row8_col2,#T_5b624fbb_802b_11eb_b3e1_342eb71307a8row8_col3,#T_5b624fbb_802b_11eb_b3e1_342eb71307a8row8_col4,#T_5b624fbb_802b_11eb_b3e1_342eb71307a8row8_col5,#T_5b624fbb_802b_11eb_b3e1_342eb71307a8row8_col6,#T_5b624fbb_802b_11eb_b3e1_342eb71307a8row8_col7,#T_5b624fbb_802b_11eb_b3e1_342eb71307a8row9_col0,#T_5b624fbb_802b_11eb_b3e1_342eb71307a8row9_col1,#T_5b624fbb_802b_11eb_b3e1_342eb71307a8row9_col2,#T_5b624fbb_802b_11eb_b3e1_342eb71307a8row9_col3,#T_5b624fbb_802b_11eb_b3e1_342eb71307a8row9_col4,#T_5b624fbb_802b_11eb_b3e1_342eb71307a8row9_col5,#T_5b624fbb_802b_11eb_b3e1_342eb71307a8row9_col6,#T_5b624fbb_802b_11eb_b3e1_342eb71307a8row9_col7,#T_5b624fbb_802b_11eb_b3e1_342eb71307a8row10_col0,#T_5b624fbb_802b_11eb_b3e1_342eb71307a8row10_col1,#T_5b624fbb_802b_11eb_b3e1_342eb71307a8row10_col2,#T_5b624fbb_802b_11eb_b3e1_342eb71307a8row10_col3,#T_5b624fbb_802b_11eb_b3e1_342eb71307a8row10_col4,#T_5b624fbb_802b_11eb_b3e1_342eb71307a8row10_col5,#T_5b624fbb_802b_11eb_b3e1_342eb71307a8row10_col6,#T_5b624fbb_802b_11eb_b3e1_342eb71307a8row10_col7,#T_5b624fbb_802b_11eb_b3e1_342eb71307a8row11_col0,#T_5b624fbb_802b_11eb_b3e1_342eb71307a8row11_col1,#T_5b624fbb_802b_11eb_b3e1_342eb71307a8row11_col2,#T_5b624fbb_802b_11eb_b3e1_342eb71307a8row11_col3,#T_5b624fbb_802b_11eb_b3e1_342eb71307a8row11_col4,#T_5b624fbb_802b_11eb_b3e1_342eb71307a8row11_col5,#T_5b624fbb_802b_11eb_b3e1_342eb71307a8row11_col6,#T_5b624fbb_802b_11eb_b3e1_342eb71307a8row11_col7,#T_5b624fbb_802b_11eb_b3e1_342eb71307a8row12_col0,#T_5b624fbb_802b_11eb_b3e1_342eb71307a8row12_col1,#T_5b624fbb_802b_11eb_b3e1_342eb71307a8row12_col2,#T_5b624fbb_802b_11eb_b3e1_342eb71307a8row12_col3,#T_5b624fbb_802b_11eb_b3e1_342eb71307a8row12_col4,#T_5b624fbb_802b_11eb_b3e1_342eb71307a8row12_col5,#T_5b624fbb_802b_11eb_b3e1_342eb71307a8row12_col7,#T_5b624fbb_802b_11eb_b3e1_342eb71307a8row13_col0,#T_5b624fbb_802b_11eb_b3e1_342eb71307a8row13_col1,#T_5b624fbb_802b_11eb_b3e1_342eb71307a8row13_col2,#T_5b624fbb_802b_11eb_b3e1_342eb71307a8row13_col3,#T_5b624fbb_802b_11eb_b3e1_342eb71307a8row13_col5,#T_5b624fbb_802b_11eb_b3e1_342eb71307a8row13_col6,#T_5b624fbb_802b_11eb_b3e1_342eb71307a8row13_col7,#T_5b624fbb_802b_11eb_b3e1_342eb71307a8row14_col0,#T_5b624fbb_802b_11eb_b3e1_342eb71307a8row14_col1,#T_5b624fbb_802b_11eb_b3e1_342eb71307a8row14_col2,#T_5b624fbb_802b_11eb_b3e1_342eb71307a8row14_col3,#T_5b624fbb_802b_11eb_b3e1_342eb71307a8row14_col4,#T_5b624fbb_802b_11eb_b3e1_342eb71307a8row14_col5,#T_5b624fbb_802b_11eb_b3e1_342eb71307a8row14_col6,#T_5b624fbb_802b_11eb_b3e1_342eb71307a8row14_col7{\n",
       "            text-align:  left;\n",
       "            text-align:  left;\n",
       "        }#T_5b624fbb_802b_11eb_b3e1_342eb71307a8row0_col1,#T_5b624fbb_802b_11eb_b3e1_342eb71307a8row0_col5,#T_5b624fbb_802b_11eb_b3e1_342eb71307a8row2_col2,#T_5b624fbb_802b_11eb_b3e1_342eb71307a8row2_col7,#T_5b624fbb_802b_11eb_b3e1_342eb71307a8row4_col3,#T_5b624fbb_802b_11eb_b3e1_342eb71307a8row4_col5,#T_5b624fbb_802b_11eb_b3e1_342eb71307a8row12_col6,#T_5b624fbb_802b_11eb_b3e1_342eb71307a8row13_col4{\n",
       "            text-align:  left;\n",
       "            text-align:  left;\n",
       "            background-color:  yellow;\n",
       "        }#T_5b624fbb_802b_11eb_b3e1_342eb71307a8row0_col8,#T_5b624fbb_802b_11eb_b3e1_342eb71307a8row1_col8,#T_5b624fbb_802b_11eb_b3e1_342eb71307a8row2_col8,#T_5b624fbb_802b_11eb_b3e1_342eb71307a8row3_col8,#T_5b624fbb_802b_11eb_b3e1_342eb71307a8row4_col8,#T_5b624fbb_802b_11eb_b3e1_342eb71307a8row5_col8,#T_5b624fbb_802b_11eb_b3e1_342eb71307a8row6_col8,#T_5b624fbb_802b_11eb_b3e1_342eb71307a8row7_col8,#T_5b624fbb_802b_11eb_b3e1_342eb71307a8row8_col8,#T_5b624fbb_802b_11eb_b3e1_342eb71307a8row9_col8,#T_5b624fbb_802b_11eb_b3e1_342eb71307a8row10_col8,#T_5b624fbb_802b_11eb_b3e1_342eb71307a8row11_col8,#T_5b624fbb_802b_11eb_b3e1_342eb71307a8row12_col8,#T_5b624fbb_802b_11eb_b3e1_342eb71307a8row14_col8{\n",
       "            text-align:  left;\n",
       "            text-align:  left;\n",
       "            background-color:  lightgrey;\n",
       "        }#T_5b624fbb_802b_11eb_b3e1_342eb71307a8row13_col8{\n",
       "            text-align:  left;\n",
       "            text-align:  left;\n",
       "            background-color:  yellow;\n",
       "            background-color:  lightgrey;\n",
       "        }</style><table id=\"T_5b624fbb_802b_11eb_b3e1_342eb71307a8\" ><thead>    <tr>        <th class=\"blank level0\" ></th>        <th class=\"col_heading level0 col0\" >Model</th>        <th class=\"col_heading level0 col1\" >Accuracy</th>        <th class=\"col_heading level0 col2\" >AUC</th>        <th class=\"col_heading level0 col3\" >Recall</th>        <th class=\"col_heading level0 col4\" >Prec.</th>        <th class=\"col_heading level0 col5\" >F1</th>        <th class=\"col_heading level0 col6\" >Kappa</th>        <th class=\"col_heading level0 col7\" >MCC</th>        <th class=\"col_heading level0 col8\" >TT (Sec)</th>    </tr></thead><tbody>\n",
       "                <tr>\n",
       "                        <th id=\"T_5b624fbb_802b_11eb_b3e1_342eb71307a8level0_row0\" class=\"row_heading level0 row0\" >gbc</th>\n",
       "                        <td id=\"T_5b624fbb_802b_11eb_b3e1_342eb71307a8row0_col0\" class=\"data row0 col0\" >Gradient Boosting Classifier</td>\n",
       "                        <td id=\"T_5b624fbb_802b_11eb_b3e1_342eb71307a8row0_col1\" class=\"data row0 col1\" >0.8187</td>\n",
       "                        <td id=\"T_5b624fbb_802b_11eb_b3e1_342eb71307a8row0_col2\" class=\"data row0 col2\" >0.7436</td>\n",
       "                        <td id=\"T_5b624fbb_802b_11eb_b3e1_342eb71307a8row0_col3\" class=\"data row0 col3\" >0.9942</td>\n",
       "                        <td id=\"T_5b624fbb_802b_11eb_b3e1_342eb71307a8row0_col4\" class=\"data row0 col4\" >0.8216</td>\n",
       "                        <td id=\"T_5b624fbb_802b_11eb_b3e1_342eb71307a8row0_col5\" class=\"data row0 col5\" >0.8997</td>\n",
       "                        <td id=\"T_5b624fbb_802b_11eb_b3e1_342eb71307a8row0_col6\" class=\"data row0 col6\" >0.0406</td>\n",
       "                        <td id=\"T_5b624fbb_802b_11eb_b3e1_342eb71307a8row0_col7\" class=\"data row0 col7\" >0.0977</td>\n",
       "                        <td id=\"T_5b624fbb_802b_11eb_b3e1_342eb71307a8row0_col8\" class=\"data row0 col8\" >5.2510</td>\n",
       "            </tr>\n",
       "            <tr>\n",
       "                        <th id=\"T_5b624fbb_802b_11eb_b3e1_342eb71307a8level0_row1\" class=\"row_heading level0 row1\" >lightgbm</th>\n",
       "                        <td id=\"T_5b624fbb_802b_11eb_b3e1_342eb71307a8row1_col0\" class=\"data row1 col0\" >Light Gradient Boosting Machine</td>\n",
       "                        <td id=\"T_5b624fbb_802b_11eb_b3e1_342eb71307a8row1_col1\" class=\"data row1 col1\" >0.8186</td>\n",
       "                        <td id=\"T_5b624fbb_802b_11eb_b3e1_342eb71307a8row1_col2\" class=\"data row1 col2\" >0.7468</td>\n",
       "                        <td id=\"T_5b624fbb_802b_11eb_b3e1_342eb71307a8row1_col3\" class=\"data row1 col3\" >0.9926</td>\n",
       "                        <td id=\"T_5b624fbb_802b_11eb_b3e1_342eb71307a8row1_col4\" class=\"data row1 col4\" >0.8224</td>\n",
       "                        <td id=\"T_5b624fbb_802b_11eb_b3e1_342eb71307a8row1_col5\" class=\"data row1 col5\" >0.8995</td>\n",
       "                        <td id=\"T_5b624fbb_802b_11eb_b3e1_342eb71307a8row1_col6\" class=\"data row1 col6\" >0.0482</td>\n",
       "                        <td id=\"T_5b624fbb_802b_11eb_b3e1_342eb71307a8row1_col7\" class=\"data row1 col7\" >0.1051</td>\n",
       "                        <td id=\"T_5b624fbb_802b_11eb_b3e1_342eb71307a8row1_col8\" class=\"data row1 col8\" >0.6130</td>\n",
       "            </tr>\n",
       "            <tr>\n",
       "                        <th id=\"T_5b624fbb_802b_11eb_b3e1_342eb71307a8level0_row2\" class=\"row_heading level0 row2\" >catboost</th>\n",
       "                        <td id=\"T_5b624fbb_802b_11eb_b3e1_342eb71307a8row2_col0\" class=\"data row2 col0\" >CatBoost Classifier</td>\n",
       "                        <td id=\"T_5b624fbb_802b_11eb_b3e1_342eb71307a8row2_col1\" class=\"data row2 col1\" >0.8183</td>\n",
       "                        <td id=\"T_5b624fbb_802b_11eb_b3e1_342eb71307a8row2_col2\" class=\"data row2 col2\" >0.7472</td>\n",
       "                        <td id=\"T_5b624fbb_802b_11eb_b3e1_342eb71307a8row2_col3\" class=\"data row2 col3\" >0.9858</td>\n",
       "                        <td id=\"T_5b624fbb_802b_11eb_b3e1_342eb71307a8row2_col4\" class=\"data row2 col4\" >0.8258</td>\n",
       "                        <td id=\"T_5b624fbb_802b_11eb_b3e1_342eb71307a8row2_col5\" class=\"data row2 col5\" >0.8987</td>\n",
       "                        <td id=\"T_5b624fbb_802b_11eb_b3e1_342eb71307a8row2_col6\" class=\"data row2 col6\" >0.0798</td>\n",
       "                        <td id=\"T_5b624fbb_802b_11eb_b3e1_342eb71307a8row2_col7\" class=\"data row2 col7\" >0.1337</td>\n",
       "                        <td id=\"T_5b624fbb_802b_11eb_b3e1_342eb71307a8row2_col8\" class=\"data row2 col8\" >21.2730</td>\n",
       "            </tr>\n",
       "            <tr>\n",
       "                        <th id=\"T_5b624fbb_802b_11eb_b3e1_342eb71307a8level0_row3\" class=\"row_heading level0 row3\" >ada</th>\n",
       "                        <td id=\"T_5b624fbb_802b_11eb_b3e1_342eb71307a8row3_col0\" class=\"data row3 col0\" >Ada Boost Classifier</td>\n",
       "                        <td id=\"T_5b624fbb_802b_11eb_b3e1_342eb71307a8row3_col1\" class=\"data row3 col1\" >0.8182</td>\n",
       "                        <td id=\"T_5b624fbb_802b_11eb_b3e1_342eb71307a8row3_col2\" class=\"data row3 col2\" >0.7339</td>\n",
       "                        <td id=\"T_5b624fbb_802b_11eb_b3e1_342eb71307a8row3_col3\" class=\"data row3 col3\" >0.9932</td>\n",
       "                        <td id=\"T_5b624fbb_802b_11eb_b3e1_342eb71307a8row3_col4\" class=\"data row3 col4\" >0.8217</td>\n",
       "                        <td id=\"T_5b624fbb_802b_11eb_b3e1_342eb71307a8row3_col5\" class=\"data row3 col5\" >0.8994</td>\n",
       "                        <td id=\"T_5b624fbb_802b_11eb_b3e1_342eb71307a8row3_col6\" class=\"data row3 col6\" >0.0418</td>\n",
       "                        <td id=\"T_5b624fbb_802b_11eb_b3e1_342eb71307a8row3_col7\" class=\"data row3 col7\" >0.0955</td>\n",
       "                        <td id=\"T_5b624fbb_802b_11eb_b3e1_342eb71307a8row3_col8\" class=\"data row3 col8\" >1.6020</td>\n",
       "            </tr>\n",
       "            <tr>\n",
       "                        <th id=\"T_5b624fbb_802b_11eb_b3e1_342eb71307a8level0_row4\" class=\"row_heading level0 row4\" >lr</th>\n",
       "                        <td id=\"T_5b624fbb_802b_11eb_b3e1_342eb71307a8row4_col0\" class=\"data row4 col0\" >Logistic Regression</td>\n",
       "                        <td id=\"T_5b624fbb_802b_11eb_b3e1_342eb71307a8row4_col1\" class=\"data row4 col1\" >0.8177</td>\n",
       "                        <td id=\"T_5b624fbb_802b_11eb_b3e1_342eb71307a8row4_col2\" class=\"data row4 col2\" >0.6055</td>\n",
       "                        <td id=\"T_5b624fbb_802b_11eb_b3e1_342eb71307a8row4_col3\" class=\"data row4 col3\" >0.9999</td>\n",
       "                        <td id=\"T_5b624fbb_802b_11eb_b3e1_342eb71307a8row4_col4\" class=\"data row4 col4\" >0.8177</td>\n",
       "                        <td id=\"T_5b624fbb_802b_11eb_b3e1_342eb71307a8row4_col5\" class=\"data row4 col5\" >0.8997</td>\n",
       "                        <td id=\"T_5b624fbb_802b_11eb_b3e1_342eb71307a8row4_col6\" class=\"data row4 col6\" >0.0000</td>\n",
       "                        <td id=\"T_5b624fbb_802b_11eb_b3e1_342eb71307a8row4_col7\" class=\"data row4 col7\" >0.0007</td>\n",
       "                        <td id=\"T_5b624fbb_802b_11eb_b3e1_342eb71307a8row4_col8\" class=\"data row4 col8\" >0.6510</td>\n",
       "            </tr>\n",
       "            <tr>\n",
       "                        <th id=\"T_5b624fbb_802b_11eb_b3e1_342eb71307a8level0_row5\" class=\"row_heading level0 row5\" >ridge</th>\n",
       "                        <td id=\"T_5b624fbb_802b_11eb_b3e1_342eb71307a8row5_col0\" class=\"data row5 col0\" >Ridge Classifier</td>\n",
       "                        <td id=\"T_5b624fbb_802b_11eb_b3e1_342eb71307a8row5_col1\" class=\"data row5 col1\" >0.8177</td>\n",
       "                        <td id=\"T_5b624fbb_802b_11eb_b3e1_342eb71307a8row5_col2\" class=\"data row5 col2\" >0.0000</td>\n",
       "                        <td id=\"T_5b624fbb_802b_11eb_b3e1_342eb71307a8row5_col3\" class=\"data row5 col3\" >0.9978</td>\n",
       "                        <td id=\"T_5b624fbb_802b_11eb_b3e1_342eb71307a8row5_col4\" class=\"data row5 col4\" >0.8188</td>\n",
       "                        <td id=\"T_5b624fbb_802b_11eb_b3e1_342eb71307a8row5_col5\" class=\"data row5 col5\" >0.8995</td>\n",
       "                        <td id=\"T_5b624fbb_802b_11eb_b3e1_342eb71307a8row5_col6\" class=\"data row5 col6\" >0.0116</td>\n",
       "                        <td id=\"T_5b624fbb_802b_11eb_b3e1_342eb71307a8row5_col7\" class=\"data row5 col7\" >0.0473</td>\n",
       "                        <td id=\"T_5b624fbb_802b_11eb_b3e1_342eb71307a8row5_col8\" class=\"data row5 col8\" >0.1000</td>\n",
       "            </tr>\n",
       "            <tr>\n",
       "                        <th id=\"T_5b624fbb_802b_11eb_b3e1_342eb71307a8level0_row6\" class=\"row_heading level0 row6\" >rf</th>\n",
       "                        <td id=\"T_5b624fbb_802b_11eb_b3e1_342eb71307a8row6_col0\" class=\"data row6 col0\" >Random Forest Classifier</td>\n",
       "                        <td id=\"T_5b624fbb_802b_11eb_b3e1_342eb71307a8row6_col1\" class=\"data row6 col1\" >0.8165</td>\n",
       "                        <td id=\"T_5b624fbb_802b_11eb_b3e1_342eb71307a8row6_col2\" class=\"data row6 col2\" >0.7241</td>\n",
       "                        <td id=\"T_5b624fbb_802b_11eb_b3e1_342eb71307a8row6_col3\" class=\"data row6 col3\" >0.9868</td>\n",
       "                        <td id=\"T_5b624fbb_802b_11eb_b3e1_342eb71307a8row6_col4\" class=\"data row6 col4\" >0.8237</td>\n",
       "                        <td id=\"T_5b624fbb_802b_11eb_b3e1_342eb71307a8row6_col5\" class=\"data row6 col5\" >0.8979</td>\n",
       "                        <td id=\"T_5b624fbb_802b_11eb_b3e1_342eb71307a8row6_col6\" class=\"data row6 col6\" >0.0599</td>\n",
       "                        <td id=\"T_5b624fbb_802b_11eb_b3e1_342eb71307a8row6_col7\" class=\"data row6 col7\" >0.1071</td>\n",
       "                        <td id=\"T_5b624fbb_802b_11eb_b3e1_342eb71307a8row6_col8\" class=\"data row6 col8\" >3.9640</td>\n",
       "            </tr>\n",
       "            <tr>\n",
       "                        <th id=\"T_5b624fbb_802b_11eb_b3e1_342eb71307a8level0_row7\" class=\"row_heading level0 row7\" >xgboost</th>\n",
       "                        <td id=\"T_5b624fbb_802b_11eb_b3e1_342eb71307a8row7_col0\" class=\"data row7 col0\" >Extreme Gradient Boosting</td>\n",
       "                        <td id=\"T_5b624fbb_802b_11eb_b3e1_342eb71307a8row7_col1\" class=\"data row7 col1\" >0.8165</td>\n",
       "                        <td id=\"T_5b624fbb_802b_11eb_b3e1_342eb71307a8row7_col2\" class=\"data row7 col2\" >0.7410</td>\n",
       "                        <td id=\"T_5b624fbb_802b_11eb_b3e1_342eb71307a8row7_col3\" class=\"data row7 col3\" >0.9829</td>\n",
       "                        <td id=\"T_5b624fbb_802b_11eb_b3e1_342eb71307a8row7_col4\" class=\"data row7 col4\" >0.8258</td>\n",
       "                        <td id=\"T_5b624fbb_802b_11eb_b3e1_342eb71307a8row7_col5\" class=\"data row7 col5\" >0.8975</td>\n",
       "                        <td id=\"T_5b624fbb_802b_11eb_b3e1_342eb71307a8row7_col6\" class=\"data row7 col6\" >0.0790</td>\n",
       "                        <td id=\"T_5b624fbb_802b_11eb_b3e1_342eb71307a8row7_col7\" class=\"data row7 col7\" >0.1264</td>\n",
       "                        <td id=\"T_5b624fbb_802b_11eb_b3e1_342eb71307a8row7_col8\" class=\"data row7 col8\" >3.0370</td>\n",
       "            </tr>\n",
       "            <tr>\n",
       "                        <th id=\"T_5b624fbb_802b_11eb_b3e1_342eb71307a8level0_row8\" class=\"row_heading level0 row8\" >lda</th>\n",
       "                        <td id=\"T_5b624fbb_802b_11eb_b3e1_342eb71307a8row8_col0\" class=\"data row8 col0\" >Linear Discriminant Analysis</td>\n",
       "                        <td id=\"T_5b624fbb_802b_11eb_b3e1_342eb71307a8row8_col1\" class=\"data row8 col1\" >0.8146</td>\n",
       "                        <td id=\"T_5b624fbb_802b_11eb_b3e1_342eb71307a8row8_col2\" class=\"data row8 col2\" >0.6667</td>\n",
       "                        <td id=\"T_5b624fbb_802b_11eb_b3e1_342eb71307a8row8_col3\" class=\"data row8 col3\" >0.9855</td>\n",
       "                        <td id=\"T_5b624fbb_802b_11eb_b3e1_342eb71307a8row8_col4\" class=\"data row8 col4\" >0.8228</td>\n",
       "                        <td id=\"T_5b624fbb_802b_11eb_b3e1_342eb71307a8row8_col5\" class=\"data row8 col5\" >0.8968</td>\n",
       "                        <td id=\"T_5b624fbb_802b_11eb_b3e1_342eb71307a8row8_col6\" class=\"data row8 col6\" >0.0513</td>\n",
       "                        <td id=\"T_5b624fbb_802b_11eb_b3e1_342eb71307a8row8_col7\" class=\"data row8 col7\" >0.0913</td>\n",
       "                        <td id=\"T_5b624fbb_802b_11eb_b3e1_342eb71307a8row8_col8\" class=\"data row8 col8\" >0.3440</td>\n",
       "            </tr>\n",
       "            <tr>\n",
       "                        <th id=\"T_5b624fbb_802b_11eb_b3e1_342eb71307a8level0_row9\" class=\"row_heading level0 row9\" >et</th>\n",
       "                        <td id=\"T_5b624fbb_802b_11eb_b3e1_342eb71307a8row9_col0\" class=\"data row9 col0\" >Extra Trees Classifier</td>\n",
       "                        <td id=\"T_5b624fbb_802b_11eb_b3e1_342eb71307a8row9_col1\" class=\"data row9 col1\" >0.8142</td>\n",
       "                        <td id=\"T_5b624fbb_802b_11eb_b3e1_342eb71307a8row9_col2\" class=\"data row9 col2\" >0.6824</td>\n",
       "                        <td id=\"T_5b624fbb_802b_11eb_b3e1_342eb71307a8row9_col3\" class=\"data row9 col3\" >0.9850</td>\n",
       "                        <td id=\"T_5b624fbb_802b_11eb_b3e1_342eb71307a8row9_col4\" class=\"data row9 col4\" >0.8227</td>\n",
       "                        <td id=\"T_5b624fbb_802b_11eb_b3e1_342eb71307a8row9_col5\" class=\"data row9 col5\" >0.8966</td>\n",
       "                        <td id=\"T_5b624fbb_802b_11eb_b3e1_342eb71307a8row9_col6\" class=\"data row9 col6\" >0.0503</td>\n",
       "                        <td id=\"T_5b624fbb_802b_11eb_b3e1_342eb71307a8row9_col7\" class=\"data row9 col7\" >0.0888</td>\n",
       "                        <td id=\"T_5b624fbb_802b_11eb_b3e1_342eb71307a8row9_col8\" class=\"data row9 col8\" >5.3010</td>\n",
       "            </tr>\n",
       "            <tr>\n",
       "                        <th id=\"T_5b624fbb_802b_11eb_b3e1_342eb71307a8level0_row10\" class=\"row_heading level0 row10\" >knn</th>\n",
       "                        <td id=\"T_5b624fbb_802b_11eb_b3e1_342eb71307a8row10_col0\" class=\"data row10 col0\" >K Neighbors Classifier</td>\n",
       "                        <td id=\"T_5b624fbb_802b_11eb_b3e1_342eb71307a8row10_col1\" class=\"data row10 col1\" >0.7878</td>\n",
       "                        <td id=\"T_5b624fbb_802b_11eb_b3e1_342eb71307a8row10_col2\" class=\"data row10 col2\" >0.5850</td>\n",
       "                        <td id=\"T_5b624fbb_802b_11eb_b3e1_342eb71307a8row10_col3\" class=\"data row10 col3\" >0.9420</td>\n",
       "                        <td id=\"T_5b624fbb_802b_11eb_b3e1_342eb71307a8row10_col4\" class=\"data row10 col4\" >0.8238</td>\n",
       "                        <td id=\"T_5b624fbb_802b_11eb_b3e1_342eb71307a8row10_col5\" class=\"data row10 col5\" >0.8789</td>\n",
       "                        <td id=\"T_5b624fbb_802b_11eb_b3e1_342eb71307a8row10_col6\" class=\"data row10 col6\" >0.0512</td>\n",
       "                        <td id=\"T_5b624fbb_802b_11eb_b3e1_342eb71307a8row10_col7\" class=\"data row10 col7\" >0.0601</td>\n",
       "                        <td id=\"T_5b624fbb_802b_11eb_b3e1_342eb71307a8row10_col8\" class=\"data row10 col8\" >17.6020</td>\n",
       "            </tr>\n",
       "            <tr>\n",
       "                        <th id=\"T_5b624fbb_802b_11eb_b3e1_342eb71307a8level0_row11\" class=\"row_heading level0 row11\" >svm</th>\n",
       "                        <td id=\"T_5b624fbb_802b_11eb_b3e1_342eb71307a8row11_col0\" class=\"data row11 col0\" >SVM - Linear Kernel</td>\n",
       "                        <td id=\"T_5b624fbb_802b_11eb_b3e1_342eb71307a8row11_col1\" class=\"data row11 col1\" >0.7375</td>\n",
       "                        <td id=\"T_5b624fbb_802b_11eb_b3e1_342eb71307a8row11_col2\" class=\"data row11 col2\" >0.0000</td>\n",
       "                        <td id=\"T_5b624fbb_802b_11eb_b3e1_342eb71307a8row11_col3\" class=\"data row11 col3\" >0.8637</td>\n",
       "                        <td id=\"T_5b624fbb_802b_11eb_b3e1_342eb71307a8row11_col4\" class=\"data row11 col4\" >0.8249</td>\n",
       "                        <td id=\"T_5b624fbb_802b_11eb_b3e1_342eb71307a8row11_col5\" class=\"data row11 col5\" >0.8375</td>\n",
       "                        <td id=\"T_5b624fbb_802b_11eb_b3e1_342eb71307a8row11_col6\" class=\"data row11 col6\" >0.0320</td>\n",
       "                        <td id=\"T_5b624fbb_802b_11eb_b3e1_342eb71307a8row11_col7\" class=\"data row11 col7\" >0.0337</td>\n",
       "                        <td id=\"T_5b624fbb_802b_11eb_b3e1_342eb71307a8row11_col8\" class=\"data row11 col8\" >0.3710</td>\n",
       "            </tr>\n",
       "            <tr>\n",
       "                        <th id=\"T_5b624fbb_802b_11eb_b3e1_342eb71307a8level0_row12\" class=\"row_heading level0 row12\" >dt</th>\n",
       "                        <td id=\"T_5b624fbb_802b_11eb_b3e1_342eb71307a8row12_col0\" class=\"data row12 col0\" >Decision Tree Classifier</td>\n",
       "                        <td id=\"T_5b624fbb_802b_11eb_b3e1_342eb71307a8row12_col1\" class=\"data row12 col1\" >0.7294</td>\n",
       "                        <td id=\"T_5b624fbb_802b_11eb_b3e1_342eb71307a8row12_col2\" class=\"data row12 col2\" >0.5618</td>\n",
       "                        <td id=\"T_5b624fbb_802b_11eb_b3e1_342eb71307a8row12_col3\" class=\"data row12 col3\" >0.8255</td>\n",
       "                        <td id=\"T_5b624fbb_802b_11eb_b3e1_342eb71307a8row12_col4\" class=\"data row12 col4\" >0.8407</td>\n",
       "                        <td id=\"T_5b624fbb_802b_11eb_b3e1_342eb71307a8row12_col5\" class=\"data row12 col5\" >0.8330</td>\n",
       "                        <td id=\"T_5b624fbb_802b_11eb_b3e1_342eb71307a8row12_col6\" class=\"data row12 col6\" >0.1199</td>\n",
       "                        <td id=\"T_5b624fbb_802b_11eb_b3e1_342eb71307a8row12_col7\" class=\"data row12 col7\" >0.1201</td>\n",
       "                        <td id=\"T_5b624fbb_802b_11eb_b3e1_342eb71307a8row12_col8\" class=\"data row12 col8\" >0.3310</td>\n",
       "            </tr>\n",
       "            <tr>\n",
       "                        <th id=\"T_5b624fbb_802b_11eb_b3e1_342eb71307a8level0_row13\" class=\"row_heading level0 row13\" >nb</th>\n",
       "                        <td id=\"T_5b624fbb_802b_11eb_b3e1_342eb71307a8row13_col0\" class=\"data row13 col0\" >Naive Bayes</td>\n",
       "                        <td id=\"T_5b624fbb_802b_11eb_b3e1_342eb71307a8row13_col1\" class=\"data row13 col1\" >0.2752</td>\n",
       "                        <td id=\"T_5b624fbb_802b_11eb_b3e1_342eb71307a8row13_col2\" class=\"data row13 col2\" >0.6304</td>\n",
       "                        <td id=\"T_5b624fbb_802b_11eb_b3e1_342eb71307a8row13_col3\" class=\"data row13 col3\" >0.1336</td>\n",
       "                        <td id=\"T_5b624fbb_802b_11eb_b3e1_342eb71307a8row13_col4\" class=\"data row13 col4\" >0.8957</td>\n",
       "                        <td id=\"T_5b624fbb_802b_11eb_b3e1_342eb71307a8row13_col5\" class=\"data row13 col5\" >0.1818</td>\n",
       "                        <td id=\"T_5b624fbb_802b_11eb_b3e1_342eb71307a8row13_col6\" class=\"data row13 col6\" >0.0260</td>\n",
       "                        <td id=\"T_5b624fbb_802b_11eb_b3e1_342eb71307a8row13_col7\" class=\"data row13 col7\" >0.0618</td>\n",
       "                        <td id=\"T_5b624fbb_802b_11eb_b3e1_342eb71307a8row13_col8\" class=\"data row13 col8\" >0.0950</td>\n",
       "            </tr>\n",
       "            <tr>\n",
       "                        <th id=\"T_5b624fbb_802b_11eb_b3e1_342eb71307a8level0_row14\" class=\"row_heading level0 row14\" >qda</th>\n",
       "                        <td id=\"T_5b624fbb_802b_11eb_b3e1_342eb71307a8row14_col0\" class=\"data row14 col0\" >Quadratic Discriminant Analysis</td>\n",
       "                        <td id=\"T_5b624fbb_802b_11eb_b3e1_342eb71307a8row14_col1\" class=\"data row14 col1\" >0.1870</td>\n",
       "                        <td id=\"T_5b624fbb_802b_11eb_b3e1_342eb71307a8row14_col2\" class=\"data row14 col2\" >0.6371</td>\n",
       "                        <td id=\"T_5b624fbb_802b_11eb_b3e1_342eb71307a8row14_col3\" class=\"data row14 col3\" >0.0067</td>\n",
       "                        <td id=\"T_5b624fbb_802b_11eb_b3e1_342eb71307a8row14_col4\" class=\"data row14 col4\" >0.8847</td>\n",
       "                        <td id=\"T_5b624fbb_802b_11eb_b3e1_342eb71307a8row14_col5\" class=\"data row14 col5\" >0.0132</td>\n",
       "                        <td id=\"T_5b624fbb_802b_11eb_b3e1_342eb71307a8row14_col6\" class=\"data row14 col6\" >0.0011</td>\n",
       "                        <td id=\"T_5b624fbb_802b_11eb_b3e1_342eb71307a8row14_col7\" class=\"data row14 col7\" >0.0139</td>\n",
       "                        <td id=\"T_5b624fbb_802b_11eb_b3e1_342eb71307a8row14_col8\" class=\"data row14 col8\" >0.2880</td>\n",
       "            </tr>\n",
       "    </tbody></table>"
      ],
      "text/plain": [
       "<pandas.io.formats.style.Styler at 0x1c61a110a00>"
      ]
     },
     "metadata": {},
     "output_type": "display_data"
    }
   ],
   "source": [
    "from pycaret.classification import *\n",
    "exp_name=setup(data=df,target='Loan Status')\n",
    "best_model=compare_models()"
   ]
  },
  {
   "cell_type": "code",
   "execution_count": null,
   "metadata": {},
   "outputs": [],
   "source": []
  }
 ],
 "metadata": {
  "kernelspec": {
   "display_name": "Python 3",
   "language": "python",
   "name": "python3"
  },
  "language_info": {
   "codemirror_mode": {
    "name": "ipython",
    "version": 3
   },
   "file_extension": ".py",
   "mimetype": "text/x-python",
   "name": "python",
   "nbconvert_exporter": "python",
   "pygments_lexer": "ipython3",
   "version": "3.8.5"
  }
 },
 "nbformat": 4,
 "nbformat_minor": 4
}
